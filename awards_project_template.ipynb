{
 "cells": [
  {
   "cell_type": "markdown",
   "metadata": {
    "tags": []
   },
   "source": [
    "# Name: Maxwell Bilyk\n",
    "### Date: 8/13/2023"
   ]
  },
  {
   "cell_type": "markdown",
   "metadata": {},
   "source": [
    "<style>\n",
    ".jp-Notebook {\n",
    "    padding: var(--jp-notebook-padding);\n",
    "    margin-left: 160px;\n",
    "    outline: none;\n",
    "    overflow: auto;\n",
    "    background: var(--jp-layout-color0);\n",
    "}\n",
    "</style>"
   ]
  },
  {
   "cell_type": "markdown",
   "metadata": {},
   "source": [
    "<img src=\"https://cdn.nba.com/logos/nba/1610612760/primary/L/logo.svg\" alt=\"logo\" style=\"position: fixed; top: -40px; left: 5px; height: 250px;\">"
   ]
  },
  {
   "cell_type": "markdown",
   "metadata": {
    "jp-MarkdownHeadingCollapsed": true,
    "tags": []
   },
   "source": [
    "# Introduction  \n",
    "\n",
    "The purpose of this project is to gauge your technical skills and problem solving ability by working through something similar to a real NBA data science project. You will work your way through this jupyter notebook, answering questions as you go along. Please begin by adding your name to the top markdown chunk in this document. When you're finished with the document, come back and type your answers into the answer key at the top. Please leave all your work below and have your answers where indicated below as well. Please note that we will be reviewing your code so make it clear, concise and avoid long printouts. Feel free to add in as many new code chunks as you'd like.\n",
    "\n",
    "Remember that we will be grading the quality of your code and visuals alongside the correctness of your answers. Please try to use packages like pandas/numpy and matplotlib/seaborn as much as possible (instead of base python data manipulations and explicit loops.)  \n",
    "\n",
    "**WARNING:** Your project will **ONLY** be graded if it's knit to an HTML document where we can see your code. Be careful to make sure that any long lines of code appropriately visibly wrap around visibly to the next line, as code that's cut off from the side of the document cannot be graded.  \n",
    "\n",
    "**Note:**    \n",
    "\n",
    "**Throughout this document, any `season` column represents the year each season started. For example, the 2015-16 season will be in the dataset as 2015. For most of the rest of the project, we will refer to a season by just this number (e.g. 2015) instead of the full text (e.g. 2015-16).** "
   ]
  },
  {
   "cell_type": "markdown",
   "metadata": {},
   "source": [
    "# Answers  \n",
    "\n",
    "## Part 1      \n",
    "\n",
    "**Question 1:**   \n",
    "\n",
    "- 1st Team: 25.9 points per game  \n",
    "- 2nd Team: 23.1 points per game  \n",
    "- 3rd Team: 20.5 points per game  \n",
    "- All-Star: 21.6 points per game   \n",
    "\n",
    "**Question 2:** 3.7 Years  \n",
    "\n",
    "**Question 3:** \n",
    "\n",
    "- Elite: 2 players.  \n",
    "- All-Star: 1 players.  \n",
    "- Starter: 11 players.  \n",
    "- Rotation:9 players.  \n",
    "- Roster: 14 players.  \n",
    "- Out of League: 36 players.  \n",
    "\n",
    "**Open Ended Modeling Question:** Please show your work and leave all responses below in the document.\n",
    "\n",
    "\n",
    "## Part 2  \n",
    "\n",
    "**Question 1:** 28.8%   \n",
    "**Question 2:** Written question, put answer below in the document.    \n",
    "**Question 3:** Written question, put answer below in the document.    \n",
    "  \n"
   ]
  },
  {
   "cell_type": "markdown",
   "metadata": {},
   "source": [
    "# Setup and Data    "
   ]
  },
  {
   "cell_type": "code",
   "execution_count": 1,
   "metadata": {},
   "outputs": [],
   "source": [
    "import pandas as pd\n",
    "# Note you will likely have to change these paths. \n",
    "# If your data is in the same folder as this project, \n",
    "# the paths will likely be fixed for you by deleting ../../Data/awards_project/ from each string.\n",
    "awards = pd.read_csv(\"C:/Users/Max/Downloads/OKC Thunder Project/awards_data.csv\")\n",
    "player_data = pd.read_csv(\"C:/Users/Max/Downloads/OKC Thunder Project/player_stats.csv\")\n",
    "team_data = pd.read_csv(\"C:/Users/Max/Downloads/OKC Thunder Project/team_stats.csv\")\n",
    "rebounding_data = pd.read_csv(\"C:/Users/Max/Downloads/OKC Thunder Project/team_rebounding_data_22.csv\")"
   ]
  },
  {
   "cell_type": "markdown",
   "metadata": {},
   "source": [
    "## Part 1 -- Awards  \n",
    "\n",
    "In this section, you're going to work with data relating to player awards and statistics. You'll start with some data manipulation questions and work towards building a model to predict broad levels of career success.  \n"
   ]
  },
  {
   "cell_type": "markdown",
   "metadata": {},
   "source": [
    "### Question 1  \n",
    "\n",
    "**QUESTION:** What is the average number of points per game for players in the 2007-2021 seasons who won All NBA First, Second, and Third teams (**not** the All Defensive Teams), as well as for players who were in the All-Star Game (**not** the rookie all-star game)?\n",
    "\n",
    "\n",
    " "
   ]
  },
  {
   "cell_type": "code",
   "execution_count": 2,
   "metadata": {},
   "outputs": [
    {
     "data": {
      "text/html": [
       "<div>\n",
       "<style scoped>\n",
       "    .dataframe tbody tr th:only-of-type {\n",
       "        vertical-align: middle;\n",
       "    }\n",
       "\n",
       "    .dataframe tbody tr th {\n",
       "        vertical-align: top;\n",
       "    }\n",
       "\n",
       "    .dataframe thead th {\n",
       "        text-align: right;\n",
       "    }\n",
       "</style>\n",
       "<table border=\"1\" class=\"dataframe\">\n",
       "  <thead>\n",
       "    <tr style=\"text-align: right;\">\n",
       "      <th></th>\n",
       "      <th>nbapersonid</th>\n",
       "      <th>player</th>\n",
       "      <th>draftyear</th>\n",
       "      <th>draftpick</th>\n",
       "      <th>season</th>\n",
       "      <th>nbateamid</th>\n",
       "      <th>team</th>\n",
       "      <th>games</th>\n",
       "      <th>games_start</th>\n",
       "      <th>mins</th>\n",
       "      <th>...</th>\n",
       "      <th>blk_pct</th>\n",
       "      <th>tov_pct</th>\n",
       "      <th>usg</th>\n",
       "      <th>OWS</th>\n",
       "      <th>DWS</th>\n",
       "      <th>WS</th>\n",
       "      <th>OBPM</th>\n",
       "      <th>DBPM</th>\n",
       "      <th>BPM</th>\n",
       "      <th>VORP</th>\n",
       "    </tr>\n",
       "  </thead>\n",
       "  <tbody>\n",
       "    <tr>\n",
       "      <th>0</th>\n",
       "      <td>2585</td>\n",
       "      <td>Zaza Pachulia</td>\n",
       "      <td>2003</td>\n",
       "      <td>42.0</td>\n",
       "      <td>2007</td>\n",
       "      <td>1610612737</td>\n",
       "      <td>ATL</td>\n",
       "      <td>62</td>\n",
       "      <td>5</td>\n",
       "      <td>944</td>\n",
       "      <td>...</td>\n",
       "      <td>0.010</td>\n",
       "      <td>0.181</td>\n",
       "      <td>0.183</td>\n",
       "      <td>0.2</td>\n",
       "      <td>0.9</td>\n",
       "      <td>1.1</td>\n",
       "      <td>-3.9</td>\n",
       "      <td>-1.3</td>\n",
       "      <td>-5.1</td>\n",
       "      <td>-0.7</td>\n",
       "    </tr>\n",
       "    <tr>\n",
       "      <th>1</th>\n",
       "      <td>200780</td>\n",
       "      <td>Solomon Jones</td>\n",
       "      <td>2006</td>\n",
       "      <td>33.0</td>\n",
       "      <td>2007</td>\n",
       "      <td>1610612737</td>\n",
       "      <td>ATL</td>\n",
       "      <td>35</td>\n",
       "      <td>0</td>\n",
       "      <td>145</td>\n",
       "      <td>...</td>\n",
       "      <td>0.026</td>\n",
       "      <td>0.221</td>\n",
       "      <td>0.156</td>\n",
       "      <td>-0.1</td>\n",
       "      <td>0.1</td>\n",
       "      <td>0.0</td>\n",
       "      <td>-6.7</td>\n",
       "      <td>-2.0</td>\n",
       "      <td>-8.8</td>\n",
       "      <td>-0.2</td>\n",
       "    </tr>\n",
       "    <tr>\n",
       "      <th>2</th>\n",
       "      <td>2746</td>\n",
       "      <td>Josh Smith</td>\n",
       "      <td>2004</td>\n",
       "      <td>17.0</td>\n",
       "      <td>2007</td>\n",
       "      <td>1610612737</td>\n",
       "      <td>ATL</td>\n",
       "      <td>81</td>\n",
       "      <td>81</td>\n",
       "      <td>2873</td>\n",
       "      <td>...</td>\n",
       "      <td>0.059</td>\n",
       "      <td>0.155</td>\n",
       "      <td>0.250</td>\n",
       "      <td>1.2</td>\n",
       "      <td>4.6</td>\n",
       "      <td>5.8</td>\n",
       "      <td>0.5</td>\n",
       "      <td>2.5</td>\n",
       "      <td>3.0</td>\n",
       "      <td>3.7</td>\n",
       "    </tr>\n",
       "    <tr>\n",
       "      <th>3</th>\n",
       "      <td>201151</td>\n",
       "      <td>Acie Law</td>\n",
       "      <td>2007</td>\n",
       "      <td>11.0</td>\n",
       "      <td>2007</td>\n",
       "      <td>1610612737</td>\n",
       "      <td>ATL</td>\n",
       "      <td>56</td>\n",
       "      <td>6</td>\n",
       "      <td>865</td>\n",
       "      <td>...</td>\n",
       "      <td>0.000</td>\n",
       "      <td>0.178</td>\n",
       "      <td>0.165</td>\n",
       "      <td>-0.5</td>\n",
       "      <td>0.4</td>\n",
       "      <td>-0.1</td>\n",
       "      <td>-4.2</td>\n",
       "      <td>-1.0</td>\n",
       "      <td>-5.2</td>\n",
       "      <td>-0.7</td>\n",
       "    </tr>\n",
       "    <tr>\n",
       "      <th>4</th>\n",
       "      <td>101136</td>\n",
       "      <td>Salim Stoudamire</td>\n",
       "      <td>2005</td>\n",
       "      <td>31.0</td>\n",
       "      <td>2007</td>\n",
       "      <td>1610612737</td>\n",
       "      <td>ATL</td>\n",
       "      <td>35</td>\n",
       "      <td>0</td>\n",
       "      <td>402</td>\n",
       "      <td>...</td>\n",
       "      <td>0.009</td>\n",
       "      <td>0.094</td>\n",
       "      <td>0.252</td>\n",
       "      <td>0.1</td>\n",
       "      <td>0.1</td>\n",
       "      <td>0.3</td>\n",
       "      <td>-1.0</td>\n",
       "      <td>-2.5</td>\n",
       "      <td>-3.5</td>\n",
       "      <td>-0.1</td>\n",
       "    </tr>\n",
       "  </tbody>\n",
       "</table>\n",
       "<p>5 rows × 49 columns</p>\n",
       "</div>"
      ],
      "text/plain": [
       "   nbapersonid            player  draftyear  draftpick  season   nbateamid  \\\n",
       "0         2585     Zaza Pachulia       2003       42.0    2007  1610612737   \n",
       "1       200780     Solomon Jones       2006       33.0    2007  1610612737   \n",
       "2         2746        Josh Smith       2004       17.0    2007  1610612737   \n",
       "3       201151          Acie Law       2007       11.0    2007  1610612737   \n",
       "4       101136  Salim Stoudamire       2005       31.0    2007  1610612737   \n",
       "\n",
       "  team  games  games_start  mins  ...  blk_pct  tov_pct    usg  OWS  DWS   WS  \\\n",
       "0  ATL     62            5   944  ...    0.010    0.181  0.183  0.2  0.9  1.1   \n",
       "1  ATL     35            0   145  ...    0.026    0.221  0.156 -0.1  0.1  0.0   \n",
       "2  ATL     81           81  2873  ...    0.059    0.155  0.250  1.2  4.6  5.8   \n",
       "3  ATL     56            6   865  ...    0.000    0.178  0.165 -0.5  0.4 -0.1   \n",
       "4  ATL     35            0   402  ...    0.009    0.094  0.252  0.1  0.1  0.3   \n",
       "\n",
       "   OBPM  DBPM  BPM  VORP  \n",
       "0  -3.9  -1.3 -5.1  -0.7  \n",
       "1  -6.7  -2.0 -8.8  -0.2  \n",
       "2   0.5   2.5  3.0   3.7  \n",
       "3  -4.2  -1.0 -5.2  -0.7  \n",
       "4  -1.0  -2.5 -3.5  -0.1  \n",
       "\n",
       "[5 rows x 49 columns]"
      ]
     },
     "execution_count": 2,
     "metadata": {},
     "output_type": "execute_result"
    }
   ],
   "source": [
    "player_data.head()"
   ]
  },
  {
   "cell_type": "code",
   "execution_count": 3,
   "metadata": {},
   "outputs": [
    {
     "data": {
      "text/html": [
       "<div>\n",
       "<style scoped>\n",
       "    .dataframe tbody tr th:only-of-type {\n",
       "        vertical-align: middle;\n",
       "    }\n",
       "\n",
       "    .dataframe tbody tr th {\n",
       "        vertical-align: top;\n",
       "    }\n",
       "\n",
       "    .dataframe thead th {\n",
       "        text-align: right;\n",
       "    }\n",
       "</style>\n",
       "<table border=\"1\" class=\"dataframe\">\n",
       "  <thead>\n",
       "    <tr style=\"text-align: right;\">\n",
       "      <th></th>\n",
       "      <th>season</th>\n",
       "      <th>nbapersonid</th>\n",
       "      <th>All NBA Defensive First Team</th>\n",
       "      <th>All NBA Defensive Second Team</th>\n",
       "      <th>All NBA First Team</th>\n",
       "      <th>All NBA Second Team</th>\n",
       "      <th>All NBA Third Team</th>\n",
       "      <th>All Rookie First Team</th>\n",
       "      <th>All Rookie Second Team</th>\n",
       "      <th>Bill Russell NBA Finals MVP</th>\n",
       "      <th>...</th>\n",
       "      <th>all_star_game</th>\n",
       "      <th>rookie_all_star_game</th>\n",
       "      <th>allstar_rk</th>\n",
       "      <th>Defensive Player Of The Year_rk</th>\n",
       "      <th>Most Improved Player_rk</th>\n",
       "      <th>Most Valuable Player_rk</th>\n",
       "      <th>Rookie Of The Year_rk</th>\n",
       "      <th>Sixth Man Of The Year_rk</th>\n",
       "      <th>all_nba_points_rk</th>\n",
       "      <th>all_rookie_points_rk</th>\n",
       "    </tr>\n",
       "  </thead>\n",
       "  <tbody>\n",
       "    <tr>\n",
       "      <th>0</th>\n",
       "      <td>2007</td>\n",
       "      <td>708.0</td>\n",
       "      <td>1.0</td>\n",
       "      <td>0.0</td>\n",
       "      <td>1.0</td>\n",
       "      <td>0.0</td>\n",
       "      <td>0.0</td>\n",
       "      <td>0.0</td>\n",
       "      <td>0.0</td>\n",
       "      <td>0.0</td>\n",
       "      <td>...</td>\n",
       "      <td>True</td>\n",
       "      <td>False</td>\n",
       "      <td>1.0</td>\n",
       "      <td>1.0</td>\n",
       "      <td>NaN</td>\n",
       "      <td>3.0</td>\n",
       "      <td>NaN</td>\n",
       "      <td>NaN</td>\n",
       "      <td>NaN</td>\n",
       "      <td>NaN</td>\n",
       "    </tr>\n",
       "    <tr>\n",
       "      <th>1</th>\n",
       "      <td>2007</td>\n",
       "      <td>947.0</td>\n",
       "      <td>0.0</td>\n",
       "      <td>0.0</td>\n",
       "      <td>0.0</td>\n",
       "      <td>0.0</td>\n",
       "      <td>0.0</td>\n",
       "      <td>0.0</td>\n",
       "      <td>0.0</td>\n",
       "      <td>0.0</td>\n",
       "      <td>...</td>\n",
       "      <td>True</td>\n",
       "      <td>False</td>\n",
       "      <td>2.0</td>\n",
       "      <td>NaN</td>\n",
       "      <td>NaN</td>\n",
       "      <td>NaN</td>\n",
       "      <td>NaN</td>\n",
       "      <td>NaN</td>\n",
       "      <td>NaN</td>\n",
       "      <td>NaN</td>\n",
       "    </tr>\n",
       "    <tr>\n",
       "      <th>2</th>\n",
       "      <td>2007</td>\n",
       "      <td>948.0</td>\n",
       "      <td>1.0</td>\n",
       "      <td>0.0</td>\n",
       "      <td>0.0</td>\n",
       "      <td>0.0</td>\n",
       "      <td>0.0</td>\n",
       "      <td>0.0</td>\n",
       "      <td>0.0</td>\n",
       "      <td>0.0</td>\n",
       "      <td>...</td>\n",
       "      <td>NaN</td>\n",
       "      <td>NaN</td>\n",
       "      <td>3.0</td>\n",
       "      <td>2.0</td>\n",
       "      <td>NaN</td>\n",
       "      <td>NaN</td>\n",
       "      <td>NaN</td>\n",
       "      <td>NaN</td>\n",
       "      <td>NaN</td>\n",
       "      <td>NaN</td>\n",
       "    </tr>\n",
       "    <tr>\n",
       "      <th>3</th>\n",
       "      <td>2007</td>\n",
       "      <td>959.0</td>\n",
       "      <td>0.0</td>\n",
       "      <td>0.0</td>\n",
       "      <td>0.0</td>\n",
       "      <td>1.0</td>\n",
       "      <td>0.0</td>\n",
       "      <td>0.0</td>\n",
       "      <td>0.0</td>\n",
       "      <td>0.0</td>\n",
       "      <td>...</td>\n",
       "      <td>True</td>\n",
       "      <td>False</td>\n",
       "      <td>4.0</td>\n",
       "      <td>NaN</td>\n",
       "      <td>NaN</td>\n",
       "      <td>9.0</td>\n",
       "      <td>NaN</td>\n",
       "      <td>NaN</td>\n",
       "      <td>NaN</td>\n",
       "      <td>NaN</td>\n",
       "    </tr>\n",
       "    <tr>\n",
       "      <th>4</th>\n",
       "      <td>2007</td>\n",
       "      <td>977.0</td>\n",
       "      <td>1.0</td>\n",
       "      <td>0.0</td>\n",
       "      <td>1.0</td>\n",
       "      <td>0.0</td>\n",
       "      <td>0.0</td>\n",
       "      <td>0.0</td>\n",
       "      <td>0.0</td>\n",
       "      <td>0.0</td>\n",
       "      <td>...</td>\n",
       "      <td>True</td>\n",
       "      <td>False</td>\n",
       "      <td>1.0</td>\n",
       "      <td>5.0</td>\n",
       "      <td>NaN</td>\n",
       "      <td>1.0</td>\n",
       "      <td>NaN</td>\n",
       "      <td>NaN</td>\n",
       "      <td>NaN</td>\n",
       "      <td>NaN</td>\n",
       "    </tr>\n",
       "  </tbody>\n",
       "</table>\n",
       "<p>5 rows × 23 columns</p>\n",
       "</div>"
      ],
      "text/plain": [
       "   season  nbapersonid  All NBA Defensive First Team  \\\n",
       "0    2007        708.0                           1.0   \n",
       "1    2007        947.0                           0.0   \n",
       "2    2007        948.0                           1.0   \n",
       "3    2007        959.0                           0.0   \n",
       "4    2007        977.0                           1.0   \n",
       "\n",
       "   All NBA Defensive Second Team  All NBA First Team  All NBA Second Team  \\\n",
       "0                            0.0                 1.0                  0.0   \n",
       "1                            0.0                 0.0                  0.0   \n",
       "2                            0.0                 0.0                  0.0   \n",
       "3                            0.0                 0.0                  1.0   \n",
       "4                            0.0                 1.0                  0.0   \n",
       "\n",
       "   All NBA Third Team  All Rookie First Team  All Rookie Second Team  \\\n",
       "0                 0.0                    0.0                     0.0   \n",
       "1                 0.0                    0.0                     0.0   \n",
       "2                 0.0                    0.0                     0.0   \n",
       "3                 0.0                    0.0                     0.0   \n",
       "4                 0.0                    0.0                     0.0   \n",
       "\n",
       "   Bill Russell NBA Finals MVP  ...  all_star_game  rookie_all_star_game  \\\n",
       "0                          0.0  ...           True                 False   \n",
       "1                          0.0  ...           True                 False   \n",
       "2                          0.0  ...            NaN                   NaN   \n",
       "3                          0.0  ...           True                 False   \n",
       "4                          0.0  ...           True                 False   \n",
       "\n",
       "   allstar_rk Defensive Player Of The Year_rk Most Improved Player_rk  \\\n",
       "0         1.0                             1.0                     NaN   \n",
       "1         2.0                             NaN                     NaN   \n",
       "2         3.0                             2.0                     NaN   \n",
       "3         4.0                             NaN                     NaN   \n",
       "4         1.0                             5.0                     NaN   \n",
       "\n",
       "   Most Valuable Player_rk  Rookie Of The Year_rk  Sixth Man Of The Year_rk  \\\n",
       "0                      3.0                    NaN                       NaN   \n",
       "1                      NaN                    NaN                       NaN   \n",
       "2                      NaN                    NaN                       NaN   \n",
       "3                      9.0                    NaN                       NaN   \n",
       "4                      1.0                    NaN                       NaN   \n",
       "\n",
       "   all_nba_points_rk  all_rookie_points_rk  \n",
       "0                NaN                   NaN  \n",
       "1                NaN                   NaN  \n",
       "2                NaN                   NaN  \n",
       "3                NaN                   NaN  \n",
       "4                NaN                   NaN  \n",
       "\n",
       "[5 rows x 23 columns]"
      ]
     },
     "execution_count": 3,
     "metadata": {},
     "output_type": "execute_result"
    }
   ],
   "source": [
    "awards.head()"
   ]
  },
  {
   "cell_type": "code",
   "execution_count": 4,
   "metadata": {
    "jupyter": {
     "outputs_hidden": true
    }
   },
   "outputs": [
    {
     "data": {
      "text/plain": [
       "Index(['nbapersonid', 'player', 'draftyear', 'draftpick', 'season',\n",
       "       'nbateamid', 'team', 'games', 'games_start', 'mins', 'fgm', 'fga',\n",
       "       'fgp', 'fgm3', 'fga3', 'fgp3', 'fgm2', 'fga2', 'fgp2', 'efg', 'ftm',\n",
       "       'fta', 'ftp', 'off_reb', 'def_reb', 'tot_reb', 'ast', 'steals',\n",
       "       'blocks', 'tov', 'tot_fouls', 'points', 'PER', 'FTr', 'off_reb_pct',\n",
       "       'def_reb_pct', 'tot_reb_pct', 'ast_pct', 'stl_pct', 'blk_pct',\n",
       "       'tov_pct', 'usg', 'OWS', 'DWS', 'WS', 'OBPM', 'DBPM', 'BPM', 'VORP',\n",
       "       'All NBA Defensive First Team', 'All NBA Defensive Second Team',\n",
       "       'All NBA First Team', 'All NBA Second Team', 'All NBA Third Team',\n",
       "       'All Rookie First Team', 'All Rookie Second Team',\n",
       "       'Bill Russell NBA Finals MVP', 'Player Of The Month',\n",
       "       'Player Of The Week', 'Rookie Of The Month', 'all_star_game',\n",
       "       'rookie_all_star_game', 'allstar_rk', 'Defensive Player Of The Year_rk',\n",
       "       'Most Improved Player_rk', 'Most Valuable Player_rk',\n",
       "       'Rookie Of The Year_rk', 'Sixth Man Of The Year_rk',\n",
       "       'all_nba_points_rk', 'all_rookie_points_rk'],\n",
       "      dtype='object')"
      ]
     },
     "execution_count": 4,
     "metadata": {},
     "output_type": "execute_result"
    }
   ],
   "source": [
    "# Start by left joining the player stats and awards table on the unique identifier and the season number\n",
    "player_stats_allnba = pd.merge(player_data, awards, on =['nbapersonid', 'season'], how = 'left')\n",
    "\n",
    "player_stats_allnba.columns"
   ]
  },
  {
   "cell_type": "code",
   "execution_count": 5,
   "metadata": {},
   "outputs": [],
   "source": [
    "# Since their are a lot of inconsistencies with the naming conventions of the columns, it makes sense to use Janitor to clean it up\n",
    "import janitor\n",
    "\n",
    "Q1_data = player_stats_allnba.clean_names()"
   ]
  },
  {
   "cell_type": "code",
   "execution_count": 6,
   "metadata": {},
   "outputs": [],
   "source": [
    "# Now that all the columns are clean we can begin filtering\n",
    "all_nba_1st = Q1_data[Q1_data.all_nba_first_team == 1]\n",
    "all_nba_2nd = Q1_data[Q1_data.all_nba_second_team == 1]\n",
    "all_nba_3rd = Q1_data[Q1_data.all_nba_third_team == 1]\n",
    "all_star = Q1_data[Q1_data.all_star_game == True]"
   ]
  },
  {
   "cell_type": "code",
   "execution_count": 7,
   "metadata": {
    "scrolled": true
   },
   "outputs": [
    {
     "name": "stderr",
     "output_type": "stream",
     "text": [
      "C:\\Users\\Max\\AppData\\Local\\Temp/ipykernel_20548/3844835606.py:2: SettingWithCopyWarning: \n",
      "A value is trying to be set on a copy of a slice from a DataFrame.\n",
      "Try using .loc[row_indexer,col_indexer] = value instead\n",
      "\n",
      "See the caveats in the documentation: https://pandas.pydata.org/pandas-docs/stable/user_guide/indexing.html#returning-a-view-versus-a-copy\n",
      "  all_nba_1st['ppg'] = (all_nba_1st['points'] / all_nba_1st['games'])\n",
      "C:\\Users\\Max\\AppData\\Local\\Temp/ipykernel_20548/3844835606.py:3: SettingWithCopyWarning: \n",
      "A value is trying to be set on a copy of a slice from a DataFrame.\n",
      "Try using .loc[row_indexer,col_indexer] = value instead\n",
      "\n",
      "See the caveats in the documentation: https://pandas.pydata.org/pandas-docs/stable/user_guide/indexing.html#returning-a-view-versus-a-copy\n",
      "  all_nba_2nd['ppg'] = (all_nba_2nd['points'] / all_nba_2nd['games'])\n",
      "C:\\Users\\Max\\AppData\\Local\\Temp/ipykernel_20548/3844835606.py:4: SettingWithCopyWarning: \n",
      "A value is trying to be set on a copy of a slice from a DataFrame.\n",
      "Try using .loc[row_indexer,col_indexer] = value instead\n",
      "\n",
      "See the caveats in the documentation: https://pandas.pydata.org/pandas-docs/stable/user_guide/indexing.html#returning-a-view-versus-a-copy\n",
      "  all_nba_3rd['ppg'] = (all_nba_3rd['points'] / all_nba_3rd['games'])\n",
      "C:\\Users\\Max\\AppData\\Local\\Temp/ipykernel_20548/3844835606.py:5: SettingWithCopyWarning: \n",
      "A value is trying to be set on a copy of a slice from a DataFrame.\n",
      "Try using .loc[row_indexer,col_indexer] = value instead\n",
      "\n",
      "See the caveats in the documentation: https://pandas.pydata.org/pandas-docs/stable/user_guide/indexing.html#returning-a-view-versus-a-copy\n",
      "  all_star['ppg'] = (all_star['points'] / all_star['games'])\n"
     ]
    }
   ],
   "source": [
    "# Creating a column for points per game in all of the dataframes\n",
    "all_nba_1st['ppg'] = (all_nba_1st['points'] / all_nba_1st['games'])\n",
    "all_nba_2nd['ppg'] = (all_nba_2nd['points'] / all_nba_2nd['games'])\n",
    "all_nba_3rd['ppg'] = (all_nba_3rd['points'] / all_nba_3rd['games'])\n",
    "all_star['ppg'] = (all_star['points'] / all_star['games'])"
   ]
  },
  {
   "cell_type": "code",
   "execution_count": 8,
   "metadata": {},
   "outputs": [
    {
     "name": "stdout",
     "output_type": "stream",
     "text": [
      "1st team AVG PPG: 25.85244416863406 \n",
      "2nd team AVG PPG: 23.081536669102267 \n",
      "3rd team AVG PPG: 20.50349090652791 \n",
      "All Star AVG PPG: 21.578781686653787\n"
     ]
    }
   ],
   "source": [
    "# Print the average points per game for all subsets\n",
    "print('1st team AVG PPG:',all_nba_1st['ppg'].mean(),'\\n2nd team AVG PPG:',all_nba_2nd['ppg'].mean(),\n",
    "     '\\n3rd team AVG PPG:', all_nba_3rd['ppg'].mean(),'\\nAll Star AVG PPG:',all_star['ppg'].mean())"
   ]
  },
  {
   "cell_type": "markdown",
   "metadata": {},
   "source": [
    "<strong><span style=\"color:red\">ANSWER 1:</span></strong>   \n",
    "\n",
    "1st Team: 25.9 points per game  \n",
    "2nd Team: 23.1 points per game  \n",
    "3rd Team: 20.5 points per game  \n",
    "All-Star: 21.6 points per game  "
   ]
  },
  {
   "cell_type": "markdown",
   "metadata": {},
   "source": [
    "### Question 2  \n",
    "\n",
    "**QUESTION:** What was the average number of years of experience in the league it takes for players to make their first All NBA Selection (1st, 2nd, or 3rd team)? Please limit your sample to players drafted in 2007 or later who did eventually go on to win at least one All NBA selection. For example:\n",
    "\n",
    "- Luka Doncic is in the dataset as 2 years. He was drafted in 2018 and won his first All NBA award in 2019 (which was his second season).  \n",
    "- LeBron James is not in this dataset, as he was drafted prior to 2007.  \n",
    "- Lu Dort is not in this dataset, as he has not received any All NBA honors.  \n",
    "\n"
   ]
  },
  {
   "cell_type": "code",
   "execution_count": 9,
   "metadata": {},
   "outputs": [],
   "source": [
    "# Filter dataset to players drafted in 2007 or later\n",
    "Q2_data = Q1_data[Q1_data['draftyear'] >= 2007]\n",
    "\n",
    "# Filter data again for any player that has made an All NBA Selection\n",
    "all_nba = Q2_data[(Q2_data.all_nba_first_team == 1) | (Q2_data.all_nba_second_team == 1) | (Q2_data.all_nba_third_team == 1)]"
   ]
  },
  {
   "cell_type": "code",
   "execution_count": 10,
   "metadata": {},
   "outputs": [],
   "source": [
    "# Group each player by their unique identifier and then pick out the lowest season number. The lowest season number will correspond to the first time that player made an All NBA Selection in their career\n",
    "first_year = all_nba.groupby('nbapersonid')['season'].idxmin()\n",
    "\n",
    "filtered_df = all_nba.loc[first_year]\n",
    "\n",
    "# Create experience variable in dataset\n",
    "filtered_df['experience'] = filtered_df['season'] - filtered_df['draftyear']"
   ]
  },
  {
   "cell_type": "code",
   "execution_count": 11,
   "metadata": {},
   "outputs": [
    {
     "name": "stdout",
     "output_type": "stream",
     "text": [
      "The AVG years of experience for a player to make their first all NBA selection is 3.682926829268293\n"
     ]
    }
   ],
   "source": [
    "# Print average of experience variable\n",
    "print('The AVG years of experience for a player to make their first all NBA selection is',filtered_df['experience'].mean())"
   ]
  },
  {
   "cell_type": "markdown",
   "metadata": {},
   "source": [
    "<strong><span style=\"color:red\">ANSWER 2:</span></strong>  \n",
    "\n",
    "3.7 Years  "
   ]
  },
  {
   "cell_type": "markdown",
   "metadata": {},
   "source": [
    "## Data Cleaning Interlude  \n",
    "\n",
    "You're going to work to create a dataset with a \"career outcome\" for each player, representing the highest level of success that the player achieved for **at least two** seasons *after his first four seasons in the league* (examples to follow below!). To do this, you'll start with single season level outcomes. On a single season level, the outcomes are:  \n",
    "\n",
    "- Elite: A player is \"Elite\" in a season if he won any All NBA award (1st, 2nd, or 3rd team), MVP, or DPOY in that season.    \n",
    "- All-Star: A player is \"All-Star\" in a season if he was selected to be an All-Star that season.   \n",
    "- Starter:  A player is a \"Starter\" in a season if he started in at least 41 games in the season OR if he played at least 2000 minutes in the season.    \n",
    "- Rotation:  A player is a \"Rotation\" player in a season if he played at least 1000 minutes in the season.   \n",
    "- Roster:  A player is a \"Roster\" player in a season if he played at least 1 minute for an NBA team but did not meet any of the above criteria.     \n",
    "- Out of the League: A player is \"Out of the League\" if he is not in the NBA in that season.   \n",
    "\n",
    "We need to make an adjustment for determining Starter/Rotation qualifications for a few seasons that didn't have 82 games per team. Assume that there were 66 possible games in the 2011 lockout season and 72 possible games in each of the 2019 and 2020 seasons that were shortened due to covid. Specifically, if a player played 900 minutes in 2011, he **would** meet the rotation criteria because his final minutes would be considered to be 900 * (82/66) = 1118. Please use this math for both minutes and games started, so a player who started 38 games in 2019 or 2020 would be considered to have started 38 * (82/72) = 43 games, and thus would qualify for starting 41. Any answers should be calculated assuming you round the multiplied values to the nearest whole number.\n",
    "\n",
    "Note that on a season level, a player's outcome is the highest level of success he qualifies for in that season. Thus, since Shai Gilgeous-Alexander was both All-NBA 1st team and an All-Star last year, he would be considered to be \"Elite\" for the 2022 season, but would still qualify for a career outcome of All-Star if in the rest of his career he made one more All-Star game but no more All-NBA teams. Note this is a hypothetical, and Shai has not yet played enough to have a career outcome.    \n",
    "\n",
    "Examples:  \n",
    "\n",
    "- A player who enters the league as a rookie and has season outcomes of Roster (1), Rotation (2), Rotation (3), Roster (4), Roster (5), Out of the League (6+) would be considered \"Out of the League,\" because after his first four seasons, he only has a single Roster year, which does not qualify him for any success outcome.  \n",
    "- A player who enters the league as a rookie and has season outcomes of Roster (1), Rotation (2), Starter (3), Starter (4), Starter (5), Starter (6), All-Star (7), Elite (8), Starter (9) would be considered \"All-Star,\" because he had at least two seasons after his first four at all-star level of production or higher.  \n",
    "- A player who enters the league as a rookie and has season outcomes of Roster (1), Rotation (2), Starter (3), Starter (4), Starter (5), Starter (6), Rotation (7), Rotation (8), Roster (9) would be considered a \"Starter\" because he has two seasons after his first four at a starter level of production. \n"
   ]
  },
  {
   "cell_type": "markdown",
   "metadata": {},
   "source": [
    "### Question 3  \n",
    "\n",
    "**QUESTION:** There are 73 players in the `player_data` dataset who have 2010 listed as their draft year. How many of those players have a **career** outcome in each of the 6 buckets?  "
   ]
  },
  {
   "cell_type": "markdown",
   "metadata": {},
   "source": [
    "### First step is to clean the dataframe and account for the shortened years"
   ]
  },
  {
   "cell_type": "code",
   "execution_count": 12,
   "metadata": {},
   "outputs": [],
   "source": [
    "Q3_df = Q1_data\n",
    "\n",
    "#Lockout Season\n",
    "Q3_df.loc[Q3_df['season'] == 2011, ['games', 'mins','games_start']] *= (82/66)\n",
    "\n",
    "#1st covid year\n",
    "Q3_df.loc[Q3_df['season'] == 2019, ['games','mins','games_start']] *= (82/74) # slighly increased ratio so no players have over 82 games played\n",
    "\n",
    "#2nd covid year\n",
    "Q3_df.loc[Q3_df['season'] == 2020, ['games','mins','games_start']] *= (82/72)\n",
    "\n",
    "round_columns = ['games','mins','games_start']\n",
    "\n",
    "#rounding newly calculated columns\n",
    "Q3_df[round_columns] = Q3_df[round_columns].round()"
   ]
  },
  {
   "cell_type": "code",
   "execution_count": 13,
   "metadata": {},
   "outputs": [],
   "source": [
    "#Pull out players\n",
    "unique_obs = Q3_df['nbapersonid'].unique()\n",
    "\n",
    "#Loop to input years that are empty between their draft year and the 2021-2022 season\n",
    "missing_years_data = []\n",
    "for player in unique_obs:\n",
    "    draft_year = Q3_df[Q3_df['nbapersonid'] == player]['draftyear'].iloc[0]\n",
    "    for year in range(draft_year, 2021):\n",
    "        if year not in Q3_df[Q3_df['nbapersonid'] == player]['season'].values:\n",
    "            missing_years_data.append({'nbapersonid': player, 'draftyear': draft_year, 'season': year, 'mins': 0})\n",
    "\n",
    "missing_years_df = pd.DataFrame(missing_years_data)\n",
    "\n",
    "# Concatenate the new DataFrame with the original DataFrame\n",
    "Q3_df = pd.concat([Q3_df, missing_years_df], ignore_index=True)"
   ]
  },
  {
   "cell_type": "code",
   "execution_count": 14,
   "metadata": {
    "jupyter": {
     "outputs_hidden": true
    }
   },
   "outputs": [],
   "source": [
    "import numpy as np\n",
    "\n",
    "# conditions for elite players\n",
    "Elite_condition_1 = Q3_df['all_nba_first_team'] == 1\n",
    "Elite_condition_2 = Q3_df['all_nba_second_team'] == 1\n",
    "Elite_condition_3 = Q3_df['all_nba_third_team'] == 1\n",
    "Elite_condition_4 = Q3_df['most_valuable_player_rk'] == 1\n",
    "Elite_condition_5 = Q3_df['defensive_player_of_the_year_rk'] == 1\n",
    "\n",
    "# giving player elite season status if all conditions are met\n",
    "Q3_df['elite'] = np.where(Elite_condition_1 | Elite_condition_2 | Elite_condition_3 | Elite_condition_4 | Elite_condition_5, 1,0)\n",
    "\n",
    "#same process as above for allstar\n",
    "all_star_condition_1 = Q3_df['all_star_game'] == True\n",
    "all_star_condition_2 = Q3_df['elite'] != 1\n",
    "\n",
    "Q3_df['all_star'] = np.where(all_star_condition_1 & all_star_condition_2, 1,0)\n",
    "\n",
    "#Same process as above for starters\n",
    "starter_condition_1 = Q3_df['games_start'] >= 41\n",
    "starter_condition_2 = Q3_df['mins'] >= 2000\n",
    "starter_condition_3 = Q3_df['elite'] != 1\n",
    "starter_condition_4 = Q3_df['all_star'] != 1\n",
    "\n",
    "Q3_df['starter'] = np.where((starter_condition_1 | starter_condition_2) & (starter_condition_3 & starter_condition_4), 1,0)\n",
    "\n",
    "#Same process as above for rotation players\n",
    "rotation_condition_1 = Q3_df['mins'] >= 1000\n",
    "rotation_condition_2 = Q3_df['elite'] != 1\n",
    "rotation_condition_3 = Q3_df['all_star'] != 1\n",
    "rotation_condition_4 = Q3_df['starter'] != 1\n",
    "\n",
    "Q3_df['rotation'] = np.where(rotation_condition_1 & (rotation_condition_2 & rotation_condition_3 & rotation_condition_4), 1,0)\n",
    "\n",
    "#same process as above for roster players\n",
    "roster_condition_1 = Q3_df['mins'] >= 1\n",
    "roster_condition_2 = Q3_df['elite'] != 1\n",
    "roster_condition_3 = Q3_df['all_star'] != 1\n",
    "roster_condition_4 = Q3_df['starter'] != 1\n",
    "roster_condition_5 = Q3_df['rotation'] != 1\n",
    "\n",
    "Q3_df['roster'] = np.where(roster_condition_1 & (roster_condition_2 & roster_condition_3 & roster_condition_4 & roster_condition_5), 1,0)\n",
    "\n",
    "#since the only players with 0 mins in the df are the empty years added earlier, just need this one condition for out of leauge\n",
    "ool_condition = Q3_df['mins'] == 0\n",
    "\n",
    "Q3_df['ool'] = np.where(ool_condition, 1,0)"
   ]
  },
  {
   "cell_type": "code",
   "execution_count": 15,
   "metadata": {},
   "outputs": [],
   "source": [
    "#group each player and order them by season\n",
    "sorted_df = Q3_df.groupby('nbapersonid').apply(lambda group: group.sort_values(by='season')).reset_index(drop=True)\n",
    "\n",
    "# Remove the first 4 years from each group\n",
    "trimmed_df = sorted_df.groupby('nbapersonid').apply(lambda group: group.iloc[4:]).reset_index(drop=True)"
   ]
  },
  {
   "cell_type": "code",
   "execution_count": 16,
   "metadata": {},
   "outputs": [
    {
     "data": {
      "text/plain": [
       "ool         36\n",
       "roster      14\n",
       "starter     11\n",
       "rotation     9\n",
       "elite        2\n",
       "all_star     1\n",
       "Name: career_outcome, dtype: int64"
      ]
     },
     "execution_count": 16,
     "metadata": {},
     "output_type": "execute_result"
    }
   ],
   "source": [
    "#Pull out each players season outcomes and sum them all up\n",
    "summed_df = trimmed_df.groupby('nbapersonid')[['elite', 'all_star','starter','rotation','roster','ool']].sum().reset_index()\n",
    "\n",
    "#conditions to determine career outcome\n",
    "co_conditions = [\n",
    "    \n",
    "    (summed_df['elite'] >=2),\n",
    "    (summed_df['elite'] < 2) & (summed_df['all_star'] >=2),\n",
    "    (summed_df['elite'] < 2) & (summed_df['all_star'] < 2) & (summed_df['starter'] >=2),\n",
    "    (summed_df['elite'] < 2) & (summed_df['all_star'] < 2) & (summed_df['starter'] < 2) & (summed_df['rotation'] >= 2),\n",
    "    (summed_df['elite'] < 2) & (summed_df['all_star'] < 2) & (summed_df['starter'] < 2) & (summed_df['rotation'] < 2) & (summed_df['roster'] >= 2),\n",
    "    (summed_df['elite'] < 2) & (summed_df['all_star'] < 2) & (summed_df['starter'] < 2) & (summed_df['rotation'] < 2) & (summed_df['roster'] < 2) & (summed_df['ool'] >= 2)\n",
    "]\n",
    "\n",
    "categories = ['elite','all_star','starter','rotation','roster','ool']\n",
    "\n",
    "summed_df['career_outcome'] = np.select(co_conditions, categories, default ='none')\n",
    "\n",
    "#add career outcomes to original dataframe\n",
    "merged_df = Q3_df.merge(summed_df[['nbapersonid','career_outcome']], on='nbapersonid', how = 'left')\n",
    "\n",
    "#filter for 2010\n",
    "new_df = merged_df[merged_df['draftyear'] == 2010]\n",
    "\n",
    "#pull out the career outcome. the actual method won't matter since the career outcome is the same every year for a given player\n",
    "class_2010 = new_df.groupby('nbapersonid')['career_outcome'].agg(pd.Series.mode).reset_index()\n",
    "\n",
    "#print results\n",
    "class_2010['career_outcome'].value_counts()"
   ]
  },
  {
   "cell_type": "markdown",
   "metadata": {},
   "source": [
    "<strong><span style=\"color:red\">ANSWER 3:</span></strong>  \n",
    "\n",
    "Elite: 2 players.  \n",
    "All-Star: 1 players.  \n",
    "Starter: 11 players.  \n",
    "Rotation: 9 players.  \n",
    "Roster: 14 players.  \n",
    "Out of League: 36 players.  "
   ]
  },
  {
   "cell_type": "markdown",
   "metadata": {},
   "source": [
    "### Open Ended Modeling Question   \n",
    "\n",
    "In this question, you will work to build a model to predict a player's career outcome based on information up through the first four years of his career. \n",
    "\n",
    "This question is intentionally left fairly open ended, but here are some notes and specifications.  \n",
    "\n",
    "1. We know modeling questions can take a long time, and that qualified candidates will have different levels of experience with \"formal\" modeling. Don't be discouraged. It's not our intention to make you spend excessive time here. If you get your model to a good spot but think you could do better by spending a lot more time, you can just write a bit about your ideas for future improvement and leave it there. Further, we're more interested in your thought process and critical thinking than we are in specific modeling techniques. Using smart features is more important than using fancy mathematical machinery, and a successful candidate could use a simple regression approach. \n",
    "\n",
    "2. You may use any data provided in this project, but please do not bring in any external sources of data. Note that while most of the data provided goes back to 2007, All NBA and All Rookie team voting is only included back to 2011.  \n",
    "\n",
    "3. A player needs to complete three additional seasons after their first four to be considered as having a distinct career outcome for our dataset. Because the dataset in this project ends in 2021, this means that a player would need to have had the chance to play in the '21, '20, and '19 seasons after his first four years, and thus his first four years would have been '18, '17, '16, and '15. **For this reason, limit your training data to players who were drafted in or before the 2015 season.** Karl-Anthony Towns was the #1 pick in that season.  \n",
    "\n",
    "4. Once you build your model, predict on all players who were drafted in 2018-2021 (They have between 1 and 4 seasons of data available and have not yet started accumulating seasons that inform their career outcome).  \n",
    "\n",
    "5. You can predict a single career outcome for each player, but it's better if you can predict the probability that each player falls into each outcome bucket.    \n",
    "\n",
    "6. Include, as part of your answer:  \n",
    "  - A brief written overview of how your model works, targeted towards a decision maker in the front office without a strong statistical background. \n",
    "  - What you view as the strengths and weaknesses of your model.  \n",
    "  - How you'd address the weaknesses if you had more time and or more data.  \n",
    "  - A matplotlib or plotly visualization highlighting some part of your modeling process, the model itself, or your results.  \n",
    "  - Your predictions for Shai Gilgeous-Alexander, Zion Williamson, James Wiseman, and Josh Giddey.  \n",
    "  - (Bonus!) An html table (for example, see the package `reactable`) containing all predictions for the players drafted in 2019-2021.  \n",
    "\n"
   ]
  },
  {
   "cell_type": "markdown",
   "metadata": {},
   "source": [
    "### Overview\n",
    "\n",
    "The following model is meant to predict the career outcome of any given player. \n",
    "\n",
    "The model works by using past data that includes player statistics and award winnings, in order to try and predict what that players career outcome will be. The possible career outcomes, from best to worst, are Elite, All-star, Starter, Rotation, Roster, Out of the Leauge, and No career outcome.\n",
    "\n",
    "If this model was fine tuned, it could provide serious value to the orginization. Use cases include:\n",
    "- Helping the front office focus in on free agents that have high predicted career outcomes\n",
    "- Helping coaches and the front office to further evaulauate their own players in a data driven way"
   ]
  },
  {
   "cell_type": "markdown",
   "metadata": {},
   "source": [
    "### Strengths and Weaknesses"
   ]
  },
  {
   "cell_type": "markdown",
   "metadata": {},
   "source": [
    "A strength of this model is it's incorporation of a Random Forest Classifier. Random Forest models are some of the best newly developed models in terms of predictive power. The foundation for this model is absolutley their and if fine tuned, could be very useful.\n",
    "\n",
    "A couple of weaknesses:\n",
    "\n",
    "After looking and thinking about why the model was performing sub-par I came to a realization about possible leakage in my model. To explain further, I had inputed a career outcome variable for every single player. So if a player had 10 seasons worth of data, I added a new column that had the same career outcome in each of those seasons. At first I overlooked this as being an issue but then I thought about how the model was learning from some of these players and how it could seriously be thrown off. To explain more clearly I'll bring up an example like Jimmy Butler. Butler has a career outcome of Elite. This is even the case in his first two years in the leauge when he averaged less than 9 points per game in each of those seasons. So this model is seeing those years where he performed poorly, but is being told to label him as Elite. I'm sure their a lot of examples of this within the data which is leading to my 'leakage' problem and most likely dragging the accuracy of this model down."
   ]
  },
  {
   "cell_type": "markdown",
   "metadata": {},
   "source": [
    "### Fixes and Improvements"
   ]
  },
  {
   "cell_type": "markdown",
   "metadata": {},
   "source": [
    "The first fix I would make to this model would be to directly fix the problem stated above. To do this, it would make more sense for me to be grouping players and summing or averaging up the values in each column. This would be quite time consuming since my final dataset for the model had 77 columns that would all need to be looked at seperatley on how to aggregrate them, but this proccess would surely help me to rid of that leakage problem.\n",
    "\n",
    "An improvement I would make with more time would be to create an voting classifier that uses multiple different classifier models and then averages out the results from each to make the best predictions. Wisdom of the crowd!"
   ]
  },
  {
   "cell_type": "markdown",
   "metadata": {},
   "source": [
    "### Code and Vizualization"
   ]
  },
  {
   "cell_type": "code",
   "execution_count": 17,
   "metadata": {
    "jupyter": {
     "outputs_hidden": true
    }
   },
   "outputs": [
    {
     "name": "stderr",
     "output_type": "stream",
     "text": [
      "C:\\Users\\Max\\AppData\\Local\\Temp/ipykernel_20548/1150582093.py:7: SettingWithCopyWarning: \n",
      "A value is trying to be set on a copy of a slice from a DataFrame\n",
      "\n",
      "See the caveats in the documentation: https://pandas.pydata.org/pandas-docs/stable/user_guide/indexing.html#returning-a-view-versus-a-copy\n",
      "  clean_data.drop(columns=['player','team'], inplace = True)\n"
     ]
    }
   ],
   "source": [
    "from sklearn.model_selection import train_test_split\n",
    "\n",
    "model_data = merged_df\n",
    "\n",
    "# drop na's\n",
    "clean_data = model_data.dropna(subset=['player'])\n",
    "\n",
    "# player name and team wont help in predictions so don't need it in the data\n",
    "clean_data.drop(columns=['player','team'], inplace = True)"
   ]
  },
  {
   "cell_type": "code",
   "execution_count": 18,
   "metadata": {},
   "outputs": [
    {
     "name": "stderr",
     "output_type": "stream",
     "text": [
      "C:\\Users\\Max\\AppData\\Local\\Temp/ipykernel_20548/2752494441.py:7: SettingWithCopyWarning: \n",
      "A value is trying to be set on a copy of a slice from a DataFrame.\n",
      "Try using .loc[row_indexer,col_indexer] = value instead\n",
      "\n",
      "See the caveats in the documentation: https://pandas.pydata.org/pandas-docs/stable/user_guide/indexing.html#returning-a-view-versus-a-copy\n",
      "  clean_data[columns_to_zero] = clean_data[columns_to_zero].fillna(0)\n",
      "C:\\Users\\Max\\AppData\\Local\\Temp/ipykernel_20548/2752494441.py:9: SettingWithCopyWarning: \n",
      "A value is trying to be set on a copy of a slice from a DataFrame.\n",
      "Try using .loc[row_indexer,col_indexer] = value instead\n",
      "\n",
      "See the caveats in the documentation: https://pandas.pydata.org/pandas-docs/stable/user_guide/indexing.html#returning-a-view-versus-a-copy\n",
      "  clean_data['draftpick'] = clean_data['draftpick'].fillna(61)\n",
      "C:\\Users\\Max\\AppData\\Local\\Temp/ipykernel_20548/2752494441.py:13: SettingWithCopyWarning: \n",
      "A value is trying to be set on a copy of a slice from a DataFrame.\n",
      "Try using .loc[row_indexer,col_indexer] = value instead\n",
      "\n",
      "See the caveats in the documentation: https://pandas.pydata.org/pandas-docs/stable/user_guide/indexing.html#returning-a-view-versus-a-copy\n",
      "  clean_data[columns_to_false] = clean_data[columns_to_false].fillna(False)\n",
      "C:\\Users\\Max\\AppData\\Local\\Temp/ipykernel_20548/2752494441.py:20: SettingWithCopyWarning: \n",
      "A value is trying to be set on a copy of a slice from a DataFrame.\n",
      "Try using .loc[row_indexer,col_indexer] = value instead\n",
      "\n",
      "See the caveats in the documentation: https://pandas.pydata.org/pandas-docs/stable/user_guide/indexing.html#returning-a-view-versus-a-copy\n",
      "  clean_data[columns_to_200] = clean_data[columns_to_200].fillna(200)\n",
      "C:\\Users\\Max\\AppData\\Local\\Temp/ipykernel_20548/2752494441.py:22: SettingWithCopyWarning: \n",
      "A value is trying to be set on a copy of a slice from a DataFrame.\n",
      "Try using .loc[row_indexer,col_indexer] = value instead\n",
      "\n",
      "See the caveats in the documentation: https://pandas.pydata.org/pandas-docs/stable/user_guide/indexing.html#returning-a-view-versus-a-copy\n",
      "  clean_data['career_outcome'] = clean_data['career_outcome'].fillna('none')\n"
     ]
    }
   ],
   "source": [
    "# pulling out columns we need to have clean to have value of 0\n",
    "columns_to_zero = ['all_nba_defensive_first_team',\n",
    "       'all_nba_defensive_second_team', 'all_nba_first_team',\n",
    "       'all_nba_second_team', 'all_nba_third_team', 'all_rookie_first_team',\n",
    "       'all_rookie_second_team', 'bill_russell_nba_finals_mvp',\n",
    "       'player_of_the_month', 'player_of_the_week', 'rookie_of_the_month','fgp','fgp3','fgp2', 'ftp','ftr', 'tov_pct','efg']\n",
    "\n",
    "clean_data[columns_to_zero] = clean_data[columns_to_zero].fillna(0)\n",
    "\n",
    "# making na draft pick's 61, since we can consider this variable as ordinal so 61 meaning undrafted\n",
    "clean_data['draftpick'] = clean_data['draftpick'].fillna(61)\n",
    "\n",
    "# columns for boolean values\n",
    "columns_to_false = ['all_star_game','rookie_all_star_game'] \n",
    "\n",
    "clean_data[columns_to_false] = clean_data[columns_to_false].fillna(False)\n",
    "\n",
    "# Once again ordinal variables so making na's 200\n",
    "columns_to_200 = ['allstar_rk',\n",
    "       'defensive_player_of_the_year_rk', 'most_improved_player_rk',\n",
    "       'most_valuable_player_rk', 'rookie_of_the_year_rk',\n",
    "       'sixth_man_of_the_year_rk', 'all_nba_points_rk', 'all_rookie_points_rk']\n",
    "\n",
    "clean_data[columns_to_200] = clean_data[columns_to_200].fillna(200)\n",
    "\n",
    "# If the player didn't meet any of the criteria\n",
    "clean_data['career_outcome'] = clean_data['career_outcome'].fillna('none')"
   ]
  },
  {
   "cell_type": "code",
   "execution_count": 19,
   "metadata": {},
   "outputs": [
    {
     "data": {
      "text/plain": [
       "starter     2556\n",
       "roster      1612\n",
       "rotation    1154\n",
       "ool          851\n",
       "elite        419\n",
       "all_star     266\n",
       "none          51\n",
       "Name: career_outcome, dtype: int64"
      ]
     },
     "execution_count": 19,
     "metadata": {},
     "output_type": "execute_result"
    }
   ],
   "source": [
    "# Filtering data for training and testing\n",
    "training_data = clean_data[clean_data['draftyear'] <= 2015]\n",
    "testing_data = clean_data[clean_data['draftyear'] >= 2018]\n",
    "\n",
    "X = training_data.drop(columns=['career_outcome'])\n",
    "y = training_data['career_outcome']\n",
    "\n",
    "# Train and Test split, want 80% to train since data sample is small\n",
    "X_train, X_test, y_train, y_test = train_test_split(X, y, test_size=0.20, random_state=42, stratify=y)\n",
    "\n",
    "X_predict = testing_data.drop(columns=['career_outcome'])\n",
    "y_predict = testing_data['career_outcome']\n",
    "\n",
    "# Checking class balances\n",
    "y.value_counts()"
   ]
  },
  {
   "cell_type": "code",
   "execution_count": 20,
   "metadata": {},
   "outputs": [
    {
     "data": {
      "text/plain": [
       "0.5839363241678727"
      ]
     },
     "execution_count": 20,
     "metadata": {},
     "output_type": "execute_result"
    }
   ],
   "source": [
    "from sklearn.ensemble import RandomForestClassifier\n",
    "from sklearn.metrics import accuracy_score, confusion_matrix, classification_report\n",
    "\n",
    "\n",
    "clf = RandomForestClassifier(max_depth=None,random_state=42)\n",
    "\n",
    "# Fitting Random Forest Classifier\n",
    "clf.fit(X_train,y_train)\n",
    "\n",
    "predictions = clf.predict(X_test)\n",
    "\n",
    "# Print accuracy\n",
    "accuracy_score(y_test,predictions)"
   ]
  },
  {
   "cell_type": "markdown",
   "metadata": {},
   "source": [
    "The accuracy score above is not super high, but accuracy can be a harsh metric when looking at classifiers with a lot of class options in the target variable.\n",
    "\n",
    "Additionally, accuracy is also not an ideal metric when predicted imbalanced classes, which is the case here."
   ]
  },
  {
   "cell_type": "code",
   "execution_count": 21,
   "metadata": {},
   "outputs": [
    {
     "name": "stderr",
     "output_type": "stream",
     "text": [
      "C:\\Users\\Max\\anaconda3\\lib\\site-packages\\seaborn\\cm.py:1582: MatplotlibDeprecationWarning: The register_cmap function was deprecated in Matplotlib 3.7 and will be removed two minor releases later. Use ``matplotlib.colormaps.register(name)`` instead.\n",
      "  mpl_cm.register_cmap(_name, _cmap)\n",
      "C:\\Users\\Max\\anaconda3\\lib\\site-packages\\seaborn\\cm.py:1583: MatplotlibDeprecationWarning: The register_cmap function was deprecated in Matplotlib 3.7 and will be removed two minor releases later. Use ``matplotlib.colormaps.register(name)`` instead.\n",
      "  mpl_cm.register_cmap(_name + \"_r\", _cmap_r)\n",
      "C:\\Users\\Max\\anaconda3\\lib\\site-packages\\seaborn\\cm.py:1582: MatplotlibDeprecationWarning: The register_cmap function was deprecated in Matplotlib 3.7 and will be removed two minor releases later. Use ``matplotlib.colormaps.register(name)`` instead.\n",
      "  mpl_cm.register_cmap(_name, _cmap)\n",
      "C:\\Users\\Max\\anaconda3\\lib\\site-packages\\seaborn\\cm.py:1583: MatplotlibDeprecationWarning: The register_cmap function was deprecated in Matplotlib 3.7 and will be removed two minor releases later. Use ``matplotlib.colormaps.register(name)`` instead.\n",
      "  mpl_cm.register_cmap(_name + \"_r\", _cmap_r)\n",
      "C:\\Users\\Max\\anaconda3\\lib\\site-packages\\seaborn\\cm.py:1582: MatplotlibDeprecationWarning: The register_cmap function was deprecated in Matplotlib 3.7 and will be removed two minor releases later. Use ``matplotlib.colormaps.register(name)`` instead.\n",
      "  mpl_cm.register_cmap(_name, _cmap)\n",
      "C:\\Users\\Max\\anaconda3\\lib\\site-packages\\seaborn\\cm.py:1583: MatplotlibDeprecationWarning: The register_cmap function was deprecated in Matplotlib 3.7 and will be removed two minor releases later. Use ``matplotlib.colormaps.register(name)`` instead.\n",
      "  mpl_cm.register_cmap(_name + \"_r\", _cmap_r)\n",
      "C:\\Users\\Max\\anaconda3\\lib\\site-packages\\seaborn\\cm.py:1582: MatplotlibDeprecationWarning: The register_cmap function was deprecated in Matplotlib 3.7 and will be removed two minor releases later. Use ``matplotlib.colormaps.register(name)`` instead.\n",
      "  mpl_cm.register_cmap(_name, _cmap)\n",
      "C:\\Users\\Max\\anaconda3\\lib\\site-packages\\seaborn\\cm.py:1583: MatplotlibDeprecationWarning: The register_cmap function was deprecated in Matplotlib 3.7 and will be removed two minor releases later. Use ``matplotlib.colormaps.register(name)`` instead.\n",
      "  mpl_cm.register_cmap(_name + \"_r\", _cmap_r)\n",
      "C:\\Users\\Max\\anaconda3\\lib\\site-packages\\seaborn\\cm.py:1582: MatplotlibDeprecationWarning: The register_cmap function was deprecated in Matplotlib 3.7 and will be removed two minor releases later. Use ``matplotlib.colormaps.register(name)`` instead.\n",
      "  mpl_cm.register_cmap(_name, _cmap)\n",
      "C:\\Users\\Max\\anaconda3\\lib\\site-packages\\seaborn\\cm.py:1583: MatplotlibDeprecationWarning: The register_cmap function was deprecated in Matplotlib 3.7 and will be removed two minor releases later. Use ``matplotlib.colormaps.register(name)`` instead.\n",
      "  mpl_cm.register_cmap(_name + \"_r\", _cmap_r)\n",
      "C:\\Users\\Max\\anaconda3\\lib\\site-packages\\seaborn\\cm.py:1582: MatplotlibDeprecationWarning: The register_cmap function was deprecated in Matplotlib 3.7 and will be removed two minor releases later. Use ``matplotlib.colormaps.register(name)`` instead.\n",
      "  mpl_cm.register_cmap(_name, _cmap)\n",
      "C:\\Users\\Max\\anaconda3\\lib\\site-packages\\seaborn\\cm.py:1583: MatplotlibDeprecationWarning: The register_cmap function was deprecated in Matplotlib 3.7 and will be removed two minor releases later. Use ``matplotlib.colormaps.register(name)`` instead.\n",
      "  mpl_cm.register_cmap(_name + \"_r\", _cmap_r)\n"
     ]
    },
    {
     "data": {
      "image/png": "[encoded data removed]",
      "text/plain": [
       "<Figure size 1152x504 with 2 Axes>"
      ]
     },
     "metadata": {
      "needs_background": "light"
     },
     "output_type": "display_data"
    }
   ],
   "source": [
    "import matplotlib.pyplot as plt\n",
    "import seaborn as sns\n",
    "\n",
    "# Get and reshape confusion matrix data\n",
    "matrix = confusion_matrix(y_test, predictions)\n",
    "matrix = matrix.astype('float') / matrix.sum(axis=1)[:, np.newaxis]\n",
    "\n",
    "# Build the plot\n",
    "plt.figure(figsize=(16,7))\n",
    "sns.set(font_scale=1.4)\n",
    "sns.heatmap(matrix, annot=True, annot_kws={'size':10},\n",
    "            cmap=plt.cm.Blues, linewidths=0.2)\n",
    "\n",
    "# Add labels to the plot\n",
    "class_names = ['Starter', 'Roster', 'Rotation', \n",
    "               'Out_of_Leauge', 'Elite', 'All_star',    \n",
    "               'None']\n",
    "tick_marks = np.arange(len(class_names))\n",
    "tick_marks2 = tick_marks + 0.5\n",
    "plt.xticks(tick_marks, class_names, rotation=25)\n",
    "plt.yticks(tick_marks2, class_names, rotation=0)\n",
    "plt.xlabel('Predicted label')\n",
    "plt.ylabel('True label')\n",
    "plt.title('Confusion Matrix for Random Forest Model')\n",
    "plt.show();"
   ]
  },
  {
   "cell_type": "markdown",
   "metadata": {},
   "source": [
    "This plot is awesome in helping us see how our model is predicting across the different possible classes of career outcomes.\n",
    "- The model is struglling the most with predicting Starters, Rotation and All-star players\n",
    "- The model performs very accuratley at predicting players with no career outcome and does a decent job at predicting Roster and Elite players\n",
    "\n",
    "A big standout is that the model is predicting \"No career outcome\" much too often."
   ]
  },
  {
   "cell_type": "code",
   "execution_count": 45,
   "metadata": {},
   "outputs": [
    {
     "name": "stdout",
     "output_type": "stream",
     "text": [
      "              precision    recall  f1-score   support\n",
      "\n",
      "    all_star       0.77      0.32      0.45        53\n",
      "       elite       0.76      0.54      0.63        84\n",
      "        none       1.00      0.10      0.18        10\n",
      "         ool       0.55      0.44      0.49       170\n",
      "      roster       0.50      0.60      0.55       323\n",
      "    rotation       0.55      0.30      0.39       231\n",
      "     starter       0.63      0.79      0.70       511\n",
      "\n",
      "    accuracy                           0.58      1382\n",
      "   macro avg       0.68      0.44      0.48      1382\n",
      "weighted avg       0.59      0.58      0.57      1382\n",
      "\n"
     ]
    }
   ],
   "source": [
    "#Print more metric measures to further understand model performance\n",
    "print(classification_report(y_test,predictions))"
   ]
  },
  {
   "cell_type": "markdown",
   "metadata": {},
   "source": [
    "For most classes, the highest score is the precision score, meaning the model was careful to label things a certain class if they weren't.\n",
    "\n",
    "Inversely, the recall score is one of the lower scores for each class, telling us that our model is being too careful when making it's classifications.\n",
    "\n",
    "The recall and f1 score for players with no career outcome is extremley low, supporting the claim above that our model is struggling very hard with this prediction, which can most likely be attributed to the class imbalances."
   ]
  },
  {
   "cell_type": "markdown",
   "metadata": {},
   "source": [
    "# Player Predictions"
   ]
  },
  {
   "cell_type": "markdown",
   "metadata": {},
   "source": [
    "### Shai Gilgeous-Alexander"
   ]
  },
  {
   "cell_type": "code",
   "execution_count": 23,
   "metadata": {},
   "outputs": [
    {
     "data": {
      "text/plain": [
       "array(['starter', 'starter', 'elite', 'all_star'], dtype=object)"
      ]
     },
     "execution_count": 23,
     "metadata": {},
     "output_type": "execute_result"
    }
   ],
   "source": [
    "clf.predict(X_predict[X_predict['nbapersonid'] == 1628983])"
   ]
  },
  {
   "cell_type": "markdown",
   "metadata": {},
   "source": [
    "This model predicts Shai's career outcome to be All-star."
   ]
  },
  {
   "cell_type": "markdown",
   "metadata": {},
   "source": [
    "### Zion Williamson"
   ]
  },
  {
   "cell_type": "code",
   "execution_count": 24,
   "metadata": {},
   "outputs": [
    {
     "data": {
      "text/plain": [
       "array(['roster', 'elite'], dtype=object)"
      ]
     },
     "execution_count": 24,
     "metadata": {},
     "output_type": "execute_result"
    }
   ],
   "source": [
    "clf.predict(X_predict[X_predict['nbapersonid'] == 1629627])"
   ]
  },
  {
   "cell_type": "markdown",
   "metadata": {},
   "source": [
    "The model predicts Zion's career outcome to be a roster player."
   ]
  },
  {
   "cell_type": "markdown",
   "metadata": {},
   "source": [
    "### James Wiseman"
   ]
  },
  {
   "cell_type": "code",
   "execution_count": 25,
   "metadata": {},
   "outputs": [
    {
     "data": {
      "text/plain": [
       "array(['rotation', 'rotation', 'starter'], dtype=object)"
      ]
     },
     "execution_count": 25,
     "metadata": {},
     "output_type": "execute_result"
    }
   ],
   "source": [
    "clf.predict(X_predict[X_predict['nbapersonid'] == 1630169])"
   ]
  },
  {
   "cell_type": "markdown",
   "metadata": {},
   "source": [
    "The model predicts James's career outcome to be a rotation player."
   ]
  },
  {
   "cell_type": "markdown",
   "metadata": {},
   "source": [
    "### Josh Giddey"
   ]
  },
  {
   "cell_type": "code",
   "execution_count": 26,
   "metadata": {},
   "outputs": [
    {
     "data": {
      "text/plain": [
       "array(['starter'], dtype=object)"
      ]
     },
     "execution_count": 26,
     "metadata": {},
     "output_type": "execute_result"
    }
   ],
   "source": [
    "clf.predict(X_predict[X_predict['nbapersonid'] == 1630581])"
   ]
  },
  {
   "cell_type": "markdown",
   "metadata": {},
   "source": [
    "The model predicts Josh's career outcome to be a starter."
   ]
  },
  {
   "cell_type": "markdown",
   "metadata": {},
   "source": [
    "### HTML Table"
   ]
  },
  {
   "cell_type": "code",
   "execution_count": 77,
   "metadata": {},
   "outputs": [
    {
     "data": {
      "text/plain": [
       "'<table border=\"1\" class=\"dataframe\">\\n  <thead>\\n    <tr style=\"text-align: right;\">\\n      <th>player</th>\\n      <th>predicted_outcome</th>\\n    </tr>\\n  </thead>\\n  <tbody>\\n    <tr>\\n      <td>Aaron Henry</td>\\n      <td>roster</td>\\n    </tr>\\n    <tr>\\n      <td>Aaron Nesmith</td>\\n      <td>roster</td>\\n    </tr>\\n    <tr>\\n      <td>Aaron Wiggins</td>\\n      <td>starter</td>\\n    </tr>\\n    <tr>\\n      <td>Adam Mokoka</td>\\n      <td>roster</td>\\n    </tr>\\n    <tr>\\n      <td>Ade Murkey</td>\\n      <td>roster</td>\\n    </tr>\\n    <tr>\\n      <td>Admiral Schofield</td>\\n      <td>roster</td>\\n    </tr>\\n    <tr>\\n      <td>Ahmad Caver</td>\\n      <td>ool</td>\\n    </tr>\\n    <tr>\\n      <td>Aleem Ford</td>\\n      <td>ool</td>\\n    </tr>\\n    <tr>\\n      <td>Aleksej Pokusevski</td>\\n      <td>rotation</td>\\n    </tr>\\n    <tr>\\n      <td>Alen Smailagic</td>\\n      <td>roster</td>\\n    </tr>\\n    <tr>\\n      <td>Alperen Şengun</td>\\n      <td>starter</td>\\n    </tr>\\n    <tr>\\n      <td>Amir Coffey</td>\\n      <td>roster</td>\\n    </tr>\\n    <tr>\\n      <td>Anthony Edwards</td>\\n      <td>[roster, starter]</td>\\n    </tr>\\n    <tr>\\n      <td>Anthony Lamb</td>\\n      <td>roster</td>\\n    </tr>\\n    <tr>\\n      <td>Armoni Brooks</td>\\n      <td>roster</td>\\n    </tr>\\n    <tr>\\n      <td>Ashton Hagans</td>\\n      <td>ool</td>\\n    </tr>\\n    <tr>\\n      <td>Austin Reaves</td>\\n      <td>rotation</td>\\n    </tr>\\n    <tr>\\n      <td>Ayo Dosunmu</td>\\n      <td>rotation</td>\\n    </tr>\\n    <tr>\\n      <td>BJ Boston</td>\\n      <td>roster</td>\\n    </tr>\\n    <tr>\\n      <td>Bol Bol</td>\\n      <td>roster</td>\\n    </tr>\\n    <tr>\\n      <td>Brandon Clarke</td>\\n      <td>starter</td>\\n    </tr>\\n    <tr>\\n      <td>Brandon Williams</td>\\n      <td>roster</td>\\n    </tr>\\n    <tr>\\n      <td>Braxton Key</td>\\n      <td>roster</td>\\n    </tr>\\n    <tr>\\n      <td>Brian Bowen II</td>\\n      <td>roster</td>\\n    </tr>\\n    <tr>\\n      <td>Brodric Thomas</td>\\n      <td>roster</td>\\n    </tr>\\n    <tr>\\n      <td>Bruno Fernando</td>\\n      <td>roster</td>\\n    </tr>\\n    <tr>\\n      <td>C.J. Elleby</td>\\n      <td>roster</td>\\n    </tr>\\n    <tr>\\n      <td>CJ Elleby</td>\\n      <td>roster</td>\\n    </tr>\\n    <tr>\\n      <td>Cade Cunningham</td>\\n      <td>roster</td>\\n    </tr>\\n    <tr>\\n      <td>Caleb Martin</td>\\n      <td>roster</td>\\n    </tr>\\n    <tr>\\n      <td>Cam Reddish</td>\\n      <td>roster</td>\\n    </tr>\\n    <tr>\\n      <td>Cam Thomas</td>\\n      <td>starter</td>\\n    </tr>\\n    <tr>\\n      <td>Cameron Johnson</td>\\n      <td>rotation</td>\\n    </tr>\\n    <tr>\\n      <td>Cameron McGriff</td>\\n      <td>roster</td>\\n    </tr>\\n    <tr>\\n      <td>Carlik Jones</td>\\n      <td>roster</td>\\n    </tr>\\n    <tr>\\n      <td>Carsen Edwards</td>\\n      <td>roster</td>\\n    </tr>\\n    <tr>\\n      <td>Cassius Stanley</td>\\n      <td>roster</td>\\n    </tr>\\n    <tr>\\n      <td>Cassius Winston</td>\\n      <td>roster</td>\\n    </tr>\\n    <tr>\\n      <td>Charles Bassey</td>\\n      <td>roster</td>\\n    </tr>\\n    <tr>\\n      <td>Charlie Brown</td>\\n      <td>roster</td>\\n    </tr>\\n    <tr>\\n      <td>Chaundee Brown</td>\\n      <td>[ool, roster]</td>\\n    </tr>\\n    <tr>\\n      <td>Chris Clemons</td>\\n      <td>roster</td>\\n    </tr>\\n    <tr>\\n      <td>Chris Duarte</td>\\n      <td>starter</td>\\n    </tr>\\n    <tr>\\n      <td>Chris Silva</td>\\n      <td>roster</td>\\n    </tr>\\n    <tr>\\n      <td>Chuma Okeke</td>\\n      <td>[rotation, starter]</td>\\n    </tr>\\n    <tr>\\n      <td>Coby White</td>\\n      <td>starter</td>\\n    </tr>\\n    <tr>\\n      <td>Cody Martin</td>\\n      <td>roster</td>\\n    </tr>\\n    <tr>\\n      <td>Cole Anthony</td>\\n      <td>starter</td>\\n    </tr>\\n    <tr>\\n      <td>Corey Kispert</td>\\n      <td>rotation</td>\\n    </tr>\\n    <tr>\\n      <td>DaQuan Jeffries</td>\\n      <td>roster</td>\\n    </tr>\\n    <tr>\\n      <td>Daishen Nix</td>\\n      <td>roster</td>\\n    </tr>\\n    <tr>\\n      <td>Dalano Banton</td>\\n      <td>roster</td>\\n    </tr>\\n    <tr>\\n      <td>Daniel Gafford</td>\\n      <td>roster</td>\\n    </tr>\\n    <tr>\\n      <td>Daniel Oturu</td>\\n      <td>roster</td>\\n    </tr>\\n    <tr>\\n      <td>Darius Bazley</td>\\n      <td>starter</td>\\n    </tr>\\n    <tr>\\n      <td>Darius Garland</td>\\n      <td>[all_star, roster, starter]</td>\\n    </tr>\\n    <tr>\\n      <td>David Duke</td>\\n      <td>roster</td>\\n    </tr>\\n    <tr>\\n      <td>David Johnson</td>\\n      <td>ool</td>\\n    </tr>\\n    <tr>\\n      <td>Davion Mitchell</td>\\n      <td>roster</td>\\n    </tr>\\n    <tr>\\n      <td>Day\\'Ron Sharpe</td>\\n      <td>roster</td>\\n    </tr>\\n    <tr>\\n      <td>De\\'Andre Hunter</td>\\n      <td>rotation</td>\\n    </tr>\\n    <tr>\\n      <td>Dean Wade</td>\\n      <td>[roster, rotation, starter]</td>\\n    </tr>\\n    <tr>\\n      <td>Deividas Sirvydis</td>\\n      <td>roster</td>\\n    </tr>\\n    <tr>\\n      <td>Deni Avdija</td>\\n      <td>[rotation, starter]</td>\\n    </tr>\\n    <tr>\\n      <td>Desmond Bane</td>\\n      <td>[rotation, starter]</td>\\n    </tr>\\n    <tr>\\n      <td>Deuce McBride</td>\\n      <td>roster</td>\\n    </tr>\\n    <tr>\\n      <td>Devin Cannady</td>\\n      <td>roster</td>\\n    </tr>\\n    <tr>\\n      <td>Devin Vassell</td>\\n      <td>rotation</td>\\n    </tr>\\n    <tr>\\n      <td>Devon Dotson</td>\\n      <td>roster</td>\\n    </tr>\\n    <tr>\\n      <td>Devontae Cacok</td>\\n      <td>roster</td>\\n    </tr>\\n    <tr>\\n      <td>Dewan Hernandez</td>\\n      <td>roster</td>\\n    </tr>\\n    <tr>\\n      <td>Didi Louzada</td>\\n      <td>roster</td>\\n    </tr>\\n    <tr>\\n      <td>Donta Hall</td>\\n      <td>roster</td>\\n    </tr>\\n    <tr>\\n      <td>Duane Washington</td>\\n      <td>rotation</td>\\n    </tr>\\n    <tr>\\n      <td>Dylan Windler</td>\\n      <td>roster</td>\\n    </tr>\\n    <tr>\\n      <td>Elijah Hughes</td>\\n      <td>roster</td>\\n    </tr>\\n    <tr>\\n      <td>Eric Paschall</td>\\n      <td>roster</td>\\n    </tr>\\n    <tr>\\n      <td>Eugene Omoruyi</td>\\n      <td>roster</td>\\n    </tr>\\n    <tr>\\n      <td>Evan Mobley</td>\\n      <td>starter</td>\\n    </tr>\\n    <tr>\\n      <td>Feron Hunt</td>\\n      <td>ool</td>\\n    </tr>\\n    <tr>\\n      <td>Franz Wagner</td>\\n      <td>starter</td>\\n    </tr>\\n    <tr>\\n      <td>Freddie Gillespie</td>\\n      <td>roster</td>\\n    </tr>\\n    <tr>\\n      <td>Garrison Mathews</td>\\n      <td>rotation</td>\\n    </tr>\\n    <tr>\\n      <td>Garrison Matthews</td>\\n      <td>rotation</td>\\n    </tr>\\n    <tr>\\n      <td>Georgios Kalaitzakis</td>\\n      <td>roster</td>\\n    </tr>\\n    <tr>\\n      <td>Goga Bitadze</td>\\n      <td>roster</td>\\n    </tr>\\n    <tr>\\n      <td>Grant Riller</td>\\n      <td>roster</td>\\n    </tr>\\n    <tr>\\n      <td>Grant Williams</td>\\n      <td>roster</td>\\n    </tr>\\n    <tr>\\n      <td>Greg Brown</td>\\n      <td>roster</td>\\n    </tr>\\n    <tr>\\n      <td>Hassani Gravett</td>\\n      <td>roster</td>\\n    </tr>\\n    <tr>\\n      <td>Herb Jones</td>\\n      <td>starter</td>\\n    </tr>\\n    <tr>\\n      <td>Ignas Brazdeikis</td>\\n      <td>roster</td>\\n    </tr>\\n    <tr>\\n      <td>Immanuel Quickley</td>\\n      <td>rotation</td>\\n    </tr>\\n    <tr>\\n      <td>Isaac Okoro</td>\\n      <td>[roster, starter]</td>\\n    </tr>\\n    <tr>\\n      <td>Isaiah Jackson</td>\\n      <td>roster</td>\\n    </tr>\\n    <tr>\\n      <td>Isaiah Joe</td>\\n      <td>roster</td>\\n    </tr>\\n    <tr>\\n      <td>Isaiah Livers</td>\\n      <td>roster</td>\\n    </tr>\\n    <tr>\\n      <td>Isaiah Roby</td>\\n      <td>[ool, roster, starter]</td>\\n    </tr>\\n    <tr>\\n      <td>Isaiah Stewart</td>\\n      <td>starter</td>\\n    </tr>\\n    <tr>\\n      <td>Isaiah Todd</td>\\n      <td>roster</td>\\n    </tr>\\n    <tr>\\n      <td>JT Thor</td>\\n      <td>roster</td>\\n    </tr>\\n    <tr>\\n      <td>Ja Morant</td>\\n      <td>starter</td>\\n    </tr>\\n    <tr>\\n      <td>JaQuori McLaughlin</td>\\n      <td>roster</td>\\n    </tr>\\n    <tr>\\n      <td>Jaden McDaniels</td>\\n      <td>[rotation, starter]</td>\\n    </tr>\\n    <tr>\\n      <td>Jaden Springer</td>\\n      <td>ool</td>\\n    </tr>\\n    <tr>\\n      <td>Jahmius Ramsey</td>\\n      <td>roster</td>\\n    </tr>\\n    <tr>\\n      <td>Jalen Green</td>\\n      <td>roster</td>\\n    </tr>\\n    <tr>\\n      <td>Jalen Harris</td>\\n      <td>roster</td>\\n    </tr>\\n    <tr>\\n      <td>Jalen Johnson</td>\\n      <td>roster</td>\\n    </tr>\\n    <tr>\\n      <td>Jalen Lecque</td>\\n      <td>roster</td>\\n    </tr>\\n    <tr>\\n      <td>Jalen McDaniels</td>\\n      <td>roster</td>\\n    </tr>\\n    <tr>\\n      <td>Jalen Smith</td>\\n      <td>roster</td>\\n    </tr>\\n    <tr>\\n      <td>Jalen Suggs</td>\\n      <td>roster</td>\\n    </tr>\\n    <tr>\\n      <td>James Bouknight</td>\\n      <td>roster</td>\\n    </tr>\\n    <tr>\\n      <td>James Wiseman</td>\\n      <td>roster</td>\\n    </tr>\\n    <tr>\\n      <td>Jamorko Pickett</td>\\n      <td>roster</td>\\n    </tr>\\n    <tr>\\n      <td>Jared Butler</td>\\n      <td>roster</td>\\n    </tr>\\n    <tr>\\n      <td>Jared Harper</td>\\n      <td>roster</td>\\n    </tr>\\n    <tr>\\n      <td>Jarrell Brantley</td>\\n      <td>roster</td>\\n    </tr>\\n    <tr>\\n      <td>Jarrett Culver</td>\\n      <td>roster</td>\\n    </tr>\\n    <tr>\\n      <td>Jarron Cumberland</td>\\n      <td>roster</td>\\n    </tr>\\n    <tr>\\n      <td>Javin DeLaurier</td>\\n      <td>roster</td>\\n    </tr>\\n    <tr>\\n      <td>Javonte Smart</td>\\n      <td>roster</td>\\n    </tr>\\n    <tr>\\n      <td>Jaxson Hayes</td>\\n      <td>[roster, rotation, starter]</td>\\n    </tr>\\n    <tr>\\n      <td>Jay Huff</td>\\n      <td>roster</td>\\n    </tr>\\n    <tr>\\n      <td>Jay Scrubb</td>\\n      <td>roster</td>\\n    </tr>\\n    <tr>\\n      <td>Jaylen Hoard</td>\\n      <td>roster</td>\\n    </tr>\\n    <tr>\\n      <td>Jaylen Nowell</td>\\n      <td>roster</td>\\n    </tr>\\n    <tr>\\n      <td>Jeff Dowtin</td>\\n      <td>roster</td>\\n    </tr>\\n    <tr>\\n      <td>Jeremiah Martin</td>\\n      <td>roster</td>\\n    </tr>\\n    <tr>\\n      <td>Jeremiah Robinson-Earl</td>\\n      <td>rotation</td>\\n    </tr>\\n    <tr>\\n      <td>Jericho Sims</td>\\n      <td>roster</td>\\n    </tr>\\n    <tr>\\n      <td>Joe Wieskamp</td>\\n      <td>roster</td>\\n    </tr>\\n    <tr>\\n      <td>Joel Ayayi</td>\\n      <td>roster</td>\\n    </tr>\\n    <tr>\\n      <td>John Konchar</td>\\n      <td>rotation</td>\\n    </tr>\\n    <tr>\\n      <td>Jon Teske</td>\\n      <td>roster</td>\\n    </tr>\\n    <tr>\\n      <td>Jonathan Kuminga</td>\\n      <td>starter</td>\\n    </tr>\\n    <tr>\\n      <td>Jontay Porter</td>\\n      <td>roster</td>\\n    </tr>\\n    <tr>\\n      <td>Jordan Bone</td>\\n      <td>roster</td>\\n    </tr>\\n    <tr>\\n      <td>Jordan Goodwin</td>\\n      <td>ool</td>\\n    </tr>\\n    <tr>\\n      <td>Jordan Nwora</td>\\n      <td>[roster, rotation]</td>\\n    </tr>\\n    <tr>\\n      <td>Jordan Poole</td>\\n      <td>starter</td>\\n    </tr>\\n    <tr>\\n      <td>Jordan Schakel</td>\\n      <td>ool</td>\\n    </tr>\\n    <tr>\\n      <td>Jose Alvarado</td>\\n      <td>rotation</td>\\n    </tr>\\n    <tr>\\n      <td>Josh Christopher</td>\\n      <td>rotation</td>\\n    </tr>\\n    <tr>\\n      <td>Josh Giddey</td>\\n      <td>starter</td>\\n    </tr>\\n    <tr>\\n      <td>Josh Green</td>\\n      <td>roster</td>\\n    </tr>\\n    <tr>\\n      <td>Josh Hall</td>\\n      <td>roster</td>\\n    </tr>\\n    <tr>\\n      <td>Josh Primo</td>\\n      <td>roster</td>\\n    </tr>\\n    <tr>\\n      <td>Josh Reaves</td>\\n      <td>roster</td>\\n    </tr>\\n    <tr>\\n      <td>Justin Champagnie</td>\\n      <td>roster</td>\\n    </tr>\\n    <tr>\\n      <td>Justin James</td>\\n      <td>roster</td>\\n    </tr>\\n    <tr>\\n      <td>Justin Robinson</td>\\n      <td>roster</td>\\n    </tr>\\n    <tr>\\n      <td>Justin Wright-Foreman</td>\\n      <td>roster</td>\\n    </tr>\\n    <tr>\\n      <td>Juwan Morgan</td>\\n      <td>roster</td>\\n    </tr>\\n    <tr>\\n      <td>Kai Jones</td>\\n      <td>roster</td>\\n    </tr>\\n    <tr>\\n      <td>Karim Mane</td>\\n      <td>roster</td>\\n    </tr>\\n    <tr>\\n      <td>Keldon Johnson</td>\\n      <td>starter</td>\\n    </tr>\\n    <tr>\\n      <td>Keljin Blevins</td>\\n      <td>roster</td>\\n    </tr>\\n    <tr>\\n      <td>Kenyon Martin</td>\\n      <td>rotation</td>\\n    </tr>\\n    <tr>\\n      <td>Keon Johnson</td>\\n      <td>roster</td>\\n    </tr>\\n    <tr>\\n      <td>Kessler Edwards</td>\\n      <td>rotation</td>\\n    </tr>\\n    <tr>\\n      <td>Kevin Porter</td>\\n      <td>starter</td>\\n    </tr>\\n    <tr>\\n      <td>Kevin Porter Jr.</td>\\n      <td>starter</td>\\n    </tr>\\n    <tr>\\n      <td>Kezie Okpala</td>\\n      <td>roster</td>\\n    </tr>\\n    <tr>\\n      <td>Killian Hayes</td>\\n      <td>[roster, starter]</td>\\n    </tr>\\n    <tr>\\n      <td>Killian Tillie</td>\\n      <td>roster</td>\\n    </tr>\\n    <tr>\\n      <td>Kira Lewis</td>\\n      <td>roster</td>\\n    </tr>\\n    <tr>\\n      <td>Ky Bowman</td>\\n      <td>rotation</td>\\n    </tr>\\n    <tr>\\n      <td>Kyle Alexander</td>\\n      <td>roster</td>\\n    </tr>\\n    <tr>\\n      <td>Kyle Guy</td>\\n      <td>roster</td>\\n    </tr>\\n    <tr>\\n      <td>LaMelo Ball</td>\\n      <td>[all_star, starter]</td>\\n    </tr>\\n    <tr>\\n      <td>Lamar Stevens</td>\\n      <td>[roster, rotation]</td>\\n    </tr>\\n    <tr>\\n      <td>Leandro Bolmaro</td>\\n      <td>roster</td>\\n    </tr>\\n    <tr>\\n      <td>Lindell Wigginton</td>\\n      <td>roster</td>\\n    </tr>\\n    <tr>\\n      <td>Lindy Waters</td>\\n      <td>roster</td>\\n    </tr>\\n    <tr>\\n      <td>Louis King</td>\\n      <td>roster</td>\\n    </tr>\\n    <tr>\\n      <td>Luguentz Dort</td>\\n      <td>starter</td>\\n    </tr>\\n    <tr>\\n      <td>Luka Garza</td>\\n      <td>roster</td>\\n    </tr>\\n    <tr>\\n      <td>Luka Samanic</td>\\n      <td>roster</td>\\n    </tr>\\n    <tr>\\n      <td>MJ Walker</td>\\n      <td>ool</td>\\n    </tr>\\n    <tr>\\n      <td>Mac McClung</td>\\n      <td>[ool, roster]</td>\\n    </tr>\\n    <tr>\\n      <td>Malachi Flynn</td>\\n      <td>[roster, rotation]</td>\\n    </tr>\\n    <tr>\\n      <td>Malik Fitts</td>\\n      <td>roster</td>\\n    </tr>\\n    <tr>\\n      <td>Mamadi Diakite</td>\\n      <td>roster</td>\\n    </tr>\\n    <tr>\\n      <td>Marcus Garrett</td>\\n      <td>roster</td>\\n    </tr>\\n    <tr>\\n      <td>Marial Shayok</td>\\n      <td>roster</td>\\n    </tr>\\n    <tr>\\n      <td>Marko Simonovic</td>\\n      <td>roster</td>\\n    </tr>\\n    <tr>\\n      <td>Markus Howard</td>\\n      <td>roster</td>\\n    </tr>\\n    <tr>\\n      <td>Marques Bolden</td>\\n      <td>[ool, roster]</td>\\n    </tr>\\n    <tr>\\n      <td>Mason Jones</td>\\n      <td>roster</td>\\n    </tr>\\n    <tr>\\n      <td>Matisse Thybulle</td>\\n      <td>starter</td>\\n    </tr>\\n    <tr>\\n      <td>Matt Mooney</td>\\n      <td>[ool, roster]</td>\\n    </tr>\\n    <tr>\\n      <td>Matt Ryan</td>\\n      <td>ool</td>\\n    </tr>\\n    <tr>\\n      <td>Max Strus</td>\\n      <td>roster</td>\\n    </tr>\\n    <tr>\\n      <td>McKinley Wright</td>\\n      <td>roster</td>\\n    </tr>\\n    <tr>\\n      <td>Mfiondu Kabengele</td>\\n      <td>roster</td>\\n    </tr>\\n    <tr>\\n      <td>Micah Potter</td>\\n      <td>ool</td>\\n    </tr>\\n    <tr>\\n      <td>Miye Oni</td>\\n      <td>roster</td>\\n    </tr>\\n    <tr>\\n      <td>Moses Brown</td>\\n      <td>roster</td>\\n    </tr>\\n    <tr>\\n      <td>Moses Moody</td>\\n      <td>roster</td>\\n    </tr>\\n    <tr>\\n      <td>Moses Wright</td>\\n      <td>[ool, roster]</td>\\n    </tr>\\n    <tr>\\n      <td>Myles Powell</td>\\n      <td>roster</td>\\n    </tr>\\n    <tr>\\n      <td>Nah\\'shon Hyland</td>\\n      <td>rotation</td>\\n    </tr>\\n    <tr>\\n      <td>Naji Marshall</td>\\n      <td>roster</td>\\n    </tr>\\n    <tr>\\n      <td>Nassir Little</td>\\n      <td>roster</td>\\n    </tr>\\n    <tr>\\n      <td>Nate Darling</td>\\n      <td>roster</td>\\n    </tr>\\n    <tr>\\n      <td>Nate Hinton</td>\\n      <td>[ool, roster]</td>\\n    </tr>\\n    <tr>\\n      <td>Nathan Knight</td>\\n      <td>roster</td>\\n    </tr>\\n    <tr>\\n      <td>Naz Reid</td>\\n      <td>starter</td>\\n    </tr>\\n    <tr>\\n      <td>Neemias Queta</td>\\n      <td>roster</td>\\n    </tr>\\n    <tr>\\n      <td>Nick Richards</td>\\n      <td>[roster, rotation]</td>\\n    </tr>\\n    <tr>\\n      <td>Nickeil Alexander-Walker</td>\\n      <td>[roster, starter]</td>\\n    </tr>\\n    <tr>\\n      <td>Nico Mannion</td>\\n      <td>roster</td>\\n    </tr>\\n    <tr>\\n      <td>Nicolas Claxton</td>\\n      <td>roster</td>\\n    </tr>\\n    <tr>\\n      <td>O\\'Shae Brissett</td>\\n      <td>roster</td>\\n    </tr>\\n    <tr>\\n      <td>Obi Toppin</td>\\n      <td>[roster, starter]</td>\\n    </tr>\\n    <tr>\\n      <td>Olivier Sarr</td>\\n      <td>roster</td>\\n    </tr>\\n    <tr>\\n      <td>Omer Yurtseven</td>\\n      <td>roster</td>\\n    </tr>\\n    <tr>\\n      <td>Onyeka Okongwu</td>\\n      <td>[roster, rotation]</td>\\n    </tr>\\n    <tr>\\n      <td>P.J. Washington</td>\\n      <td>starter</td>\\n    </tr>\\n    <tr>\\n      <td>PJ Washington</td>\\n      <td>starter</td>\\n    </tr>\\n    <tr>\\n      <td>Patrick Williams</td>\\n      <td>roster</td>\\n    </tr>\\n    <tr>\\n      <td>Paul Reed</td>\\n      <td>roster</td>\\n    </tr>\\n    <tr>\\n      <td>Payton Pritchard</td>\\n      <td>rotation</td>\\n    </tr>\\n    <tr>\\n      <td>Precious Achiuwa</td>\\n      <td>[roster, starter]</td>\\n    </tr>\\n    <tr>\\n      <td>Quentin Grimes</td>\\n      <td>rotation</td>\\n    </tr>\\n    <tr>\\n      <td>Quinndary Weatherspoon</td>\\n      <td>roster</td>\\n    </tr>\\n    <tr>\\n      <td>R.J. Barrett</td>\\n      <td>starter</td>\\n    </tr>\\n    <tr>\\n      <td>R.J. Hampton</td>\\n      <td>roster</td>\\n    </tr>\\n    <tr>\\n      <td>RJ Barrett</td>\\n      <td>starter</td>\\n    </tr>\\n    <tr>\\n      <td>RJ Hampton</td>\\n      <td>roster</td>\\n    </tr>\\n    <tr>\\n      <td>RJ Nembhard</td>\\n      <td>roster</td>\\n    </tr>\\n    <tr>\\n      <td>Rayjon Tucker</td>\\n      <td>roster</td>\\n    </tr>\\n    <tr>\\n      <td>Reggie Perry</td>\\n      <td>roster</td>\\n    </tr>\\n    <tr>\\n      <td>Rob Edwards</td>\\n      <td>roster</td>\\n    </tr>\\n    <tr>\\n      <td>Robert Franks</td>\\n      <td>roster</td>\\n    </tr>\\n    <tr>\\n      <td>Robert Woodard</td>\\n      <td>roster</td>\\n    </tr>\\n    <tr>\\n      <td>Robert Woodard Jr.</td>\\n      <td>roster</td>\\n    </tr>\\n    <tr>\\n      <td>Romeo Langford</td>\\n      <td>roster</td>\\n    </tr>\\n    <tr>\\n      <td>Rui Hachimura</td>\\n      <td>[roster, rotation, starter]</td>\\n    </tr>\\n    <tr>\\n      <td>Saben Lee</td>\\n      <td>roster</td>\\n    </tr>\\n    <tr>\\n      <td>Saddiq Bey</td>\\n      <td>starter</td>\\n    </tr>\\n    <tr>\\n      <td>Sam Hauser</td>\\n      <td>roster</td>\\n    </tr>\\n    <tr>\\n      <td>Sam Merrill</td>\\n      <td>roster</td>\\n    </tr>\\n    <tr>\\n      <td>Sandro Mamukelashvili</td>\\n      <td>roster</td>\\n    </tr>\\n    <tr>\\n      <td>Santiago Aldama</td>\\n      <td>roster</td>\\n    </tr>\\n    <tr>\\n      <td>Scottie Barnes</td>\\n      <td>starter</td>\\n    </tr>\\n    <tr>\\n      <td>Scottie Lewis</td>\\n      <td>roster</td>\\n    </tr>\\n    <tr>\\n      <td>Sean McDermott</td>\\n      <td>roster</td>\\n    </tr>\\n    <tr>\\n      <td>Sekou Doumbouya</td>\\n      <td>roster</td>\\n    </tr>\\n    <tr>\\n      <td>Shamorie Ponds</td>\\n      <td>roster</td>\\n    </tr>\\n    <tr>\\n      <td>Shaq Buchanan</td>\\n      <td>roster</td>\\n    </tr>\\n    <tr>\\n      <td>Sharife Cooper</td>\\n      <td>roster</td>\\n    </tr>\\n    <tr>\\n      <td>Skylar Mays</td>\\n      <td>roster</td>\\n    </tr>\\n    <tr>\\n      <td>Tacko Fall</td>\\n      <td>roster</td>\\n    </tr>\\n    <tr>\\n      <td>Talen Horton-Tucker</td>\\n      <td>starter</td>\\n    </tr>\\n    <tr>\\n      <td>Tariq Owens</td>\\n      <td>roster</td>\\n    </tr>\\n    <tr>\\n      <td>Terance Mann</td>\\n      <td>[roster, rotation, starter]</td>\\n    </tr>\\n    <tr>\\n      <td>Terence Davis</td>\\n      <td>[roster, rotation]</td>\\n    </tr>\\n    <tr>\\n      <td>Terry Taylor</td>\\n      <td>roster</td>\\n    </tr>\\n    <tr>\\n      <td>Theo Maledon</td>\\n      <td>[roster, rotation]</td>\\n    </tr>\\n    <tr>\\n      <td>Tre Jones</td>\\n      <td>[roster, rotation]</td>\\n    </tr>\\n    <tr>\\n      <td>Tre Mann</td>\\n      <td>rotation</td>\\n    </tr>\\n    <tr>\\n      <td>Tremont Waters</td>\\n      <td>roster</td>\\n    </tr>\\n    <tr>\\n      <td>Trendon Watford</td>\\n      <td>roster</td>\\n    </tr>\\n    <tr>\\n      <td>Trent Forrest</td>\\n      <td>roster</td>\\n    </tr>\\n    <tr>\\n      <td>Trevelin Queen</td>\\n      <td>roster</td>\\n    </tr>\\n    <tr>\\n      <td>Trevon Scott</td>\\n      <td>roster</td>\\n    </tr>\\n    <tr>\\n      <td>Trey Murphy</td>\\n      <td>roster</td>\\n    </tr>\\n    <tr>\\n      <td>Ty Jerome</td>\\n      <td>roster</td>\\n    </tr>\\n    <tr>\\n      <td>Ty-Shon Alexander</td>\\n      <td>roster</td>\\n    </tr>\\n    <tr>\\n      <td>Tyler Bey</td>\\n      <td>roster</td>\\n    </tr>\\n    <tr>\\n      <td>Tyler Cook</td>\\n      <td>roster</td>\\n    </tr>\\n    <tr>\\n      <td>Tyler Hall</td>\\n      <td>roster</td>\\n    </tr>\\n    <tr>\\n      <td>Tyler Herro</td>\\n      <td>starter</td>\\n    </tr>\\n    <tr>\\n      <td>Tyrell Terry</td>\\n      <td>roster</td>\\n    </tr>\\n    <tr>\\n      <td>Tyrese Haliburton</td>\\n      <td>rotation</td>\\n    </tr>\\n    <tr>\\n      <td>Tyrese Maxey</td>\\n      <td>[rotation, starter]</td>\\n    </tr>\\n    <tr>\\n      <td>Udoka Azubuike</td>\\n      <td>roster</td>\\n    </tr>\\n    <tr>\\n      <td>Usman Garuba</td>\\n      <td>roster</td>\\n    </tr>\\n    <tr>\\n      <td>Vernon Carey</td>\\n      <td>roster</td>\\n    </tr>\\n    <tr>\\n      <td>Vernon Carey Jr.</td>\\n      <td>roster</td>\\n    </tr>\\n    <tr>\\n      <td>Victor Law</td>\\n      <td>roster</td>\\n    </tr>\\n    <tr>\\n      <td>Vit Krejci</td>\\n      <td>roster</td>\\n    </tr>\\n    <tr>\\n      <td>Xavier Sneed</td>\\n      <td>[ool, roster]</td>\\n    </tr>\\n    <tr>\\n      <td>Xavier Tillman</td>\\n      <td>rotation</td>\\n    </tr>\\n    <tr>\\n      <td>Yves Pons</td>\\n      <td>roster</td>\\n    </tr>\\n    <tr>\\n      <td>Zach Norvell Jr.</td>\\n      <td>[ool, roster]</td>\\n    </tr>\\n    <tr>\\n      <td>Zavier Simpson</td>\\n      <td>roster</td>\\n    </tr>\\n    <tr>\\n      <td>Zeke Nnaji</td>\\n      <td>roster</td>\\n    </tr>\\n    <tr>\\n      <td>Ziaire Williams</td>\\n      <td>rotation</td>\\n    </tr>\\n    <tr>\\n      <td>Zion Williamson</td>\\n      <td>[elite, roster]</td>\\n    </tr>\\n    <tr>\\n      <td>Zylan Cheatham</td>\\n      <td>[ool, roster]</td>\\n    </tr>\\n  </tbody>\\n</table>'"
      ]
     },
     "execution_count": 77,
     "metadata": {},
     "output_type": "execute_result"
    }
   ],
   "source": [
    "# Filter data to only have players drafted 2019 and on\n",
    "table_data = clean_data[clean_data['draftyear'] >= 2019]\n",
    "\n",
    "X_table = table_data.drop(columns=['career_outcome'])\n",
    "y_table = table_data['career_outcome']\n",
    "\n",
    "# Predict career_outcome\n",
    "table_predictions = clf.predict(X_table)\n",
    "\n",
    "# Make predictions new column in dataframe\n",
    "X_table['predicted_outcome'] = table_predictions\n",
    "\n",
    "# Filtering\n",
    "new_columns = ['nbapersonid','season','predicted_outcome']\n",
    "\n",
    "new_table = X_table[new_columns]\n",
    "\n",
    "# Joining tables in order to bring player names back into the data\n",
    "merged_df = new_table.merge(player_data[['nbapersonid','player']],on='nbapersonid')\n",
    "\n",
    "# group by player and take the mode of career outcomes predicted for each player\n",
    "html_table = merged_df.groupby('player')['predicted_outcome'].agg(pd.Series.mode).reset_index()\n",
    "\n",
    "html_table.to_html(index=False)"
   ]
  },
  {
   "cell_type": "markdown",
   "metadata": {},
   "source": [
    "## Part 2 -- Predicting Team Stats  \n",
    "\n",
    "In this section, we're going to introduce a simple way to predict team offensive rebound percent in the next game and then discuss ways to improve those predictions.  \n",
    " \n",
    "### Question 1   \n",
    "\n",
    "Using the `rebounding_data` dataset, we'll predict a team's next game's offensive rebounding percent to be their average offensive rebounding percent in all prior games. On a single game level, offensive rebounding percent is the number of offensive rebounds divided by their number offensive rebound \"chances\" (essentially the team's missed shots). On a multi-game sample, it should be the total number of offensive rebounds divided by the total number of offensive rebound chances.    \n",
    "\n",
    "Please calculate what OKC's predicted offensive rebound percent is for game 81 in the data. That is, use games 1-80 to predict game 81.  "
   ]
  },
  {
   "cell_type": "code",
   "execution_count": 44,
   "metadata": {
    "jupyter": {
     "outputs_hidden": true
    }
   },
   "outputs": [
    {
     "data": {
      "text/plain": [
       "0.2878860611061612"
      ]
     },
     "execution_count": 44,
     "metadata": {},
     "output_type": "execute_result"
    }
   ],
   "source": [
    "# Filter data for just OKC instances\n",
    "okc_rebounding = rebounding_data[rebounding_data['team'] == 'OKC']\n",
    "\n",
    "#Filter data to only grab games 1-80\n",
    "games_1_to_80 = okc_rebounding[(okc_rebounding['game_number'] >=1) & (okc_rebounding['game_number'] <= 80)]\n",
    "\n",
    "#average offensive rebounding percentage\n",
    "games_1_to_80['oreb_pct'].mean()"
   ]
  },
  {
   "cell_type": "markdown",
   "metadata": {},
   "source": [
    "<strong><span style=\"color:red\">ANSWER 1:</span></strong>  \n",
    "\n",
    "28.8% "
   ]
  },
  {
   "cell_type": "markdown",
   "metadata": {},
   "source": [
    "### Question 2  \n",
    "\n",
    "There are a few limitations to the method we used above. For example, if a team has a great offensive rebounder who has played in most games this season but will be out due to an injury for the next game, we might reasonably predict a lower team offensive rebound percent for the next game.  \n",
    "\n",
    "Please discuss how you would think about changing our original model to better account for missing players. You do not have to write any code or implement any changes, and you can assume you have access to any reasonable data that isn't provided in this project. Try to be clear and concise with your answer.  "
   ]
  },
  {
   "cell_type": "markdown",
   "metadata": {},
   "source": [
    "<strong><span style=\"color:red\">ANSWER 2:</span></strong>  \n",
    "\n",
    "One possible apporoach to this problem could be to to look at each individual player's offensive rebounding percentage. A dataset that had this information would make it possible to predict a more accurate team offensive rebounding percentage. Whenever the team found out the lineup for a given game, they could just average each player in the lineup's offensive rebounding percentage together in order to come up with a more accurate prediction. This would proactivley account for missing great offensive rebounders for the team."
   ]
  },
  {
   "cell_type": "markdown",
   "metadata": {},
   "source": [
    "### Question 3  \n",
    "\n",
    "In question 2, you saw and discussed how to deal with one weakness of the model. For this question, please write about 1-3 other potential weaknesses of the simple average model you made in question 1 and discuss how you would deal with each of them. You may either explain a weakness and discuss how you'd fix that weakness, then move onto the next issue, or you can start by explaining multiple weaknesses with the original approach and discuss one overall modeling methodology you'd use that gets around most or all of them. Again, you do not need to write any code or implement any changes, and you can assume you have access to any reasonable data that isn't provided in this project. Try to be clear and concise with your answer.  \n"
   ]
  },
  {
   "cell_type": "markdown",
   "metadata": {},
   "source": [
    "<strong><span style=\"color:red\">ANSWER 3:</span></strong>  \n",
    "\n",
    "A weakness with this model that I want to discuss is the lack of predictive power that the model above yields. While a simple average can support a decent baseline prediction, the use of a regression model could potentially signifigantly increase prediction accuracy.\n",
    "\n",
    "To speak on the methodology I would take for this approach, I would first off want to pull in more data to help paint the picture of each game a little better. For example, data like opposing team defensive rebounding percentage, opposing team shots attempted per game, opposing team field goal percentage. Using this data in combination with game number and a similiar work-around for player injury as stated above in question 2, could be a much more accurate model than the simple average model."
   ]
  }
 ],
 "metadata": {
  "kernelspec": {
   "display_name": "Python 3 (ipykernel)",
   "language": "python",
   "name": "python3"
  },
  "language_info": {
   "codemirror_mode": {
    "name": "ipython",
    "version": 3
   },
   "file_extension": ".py",
   "mimetype": "text/x-python",
   "name": "python",
   "nbconvert_exporter": "python",
   "pygments_lexer": "ipython3",
   "version": "3.9.7"
  }
 },
 "nbformat": 4,
 "nbformat_minor": 4
}
